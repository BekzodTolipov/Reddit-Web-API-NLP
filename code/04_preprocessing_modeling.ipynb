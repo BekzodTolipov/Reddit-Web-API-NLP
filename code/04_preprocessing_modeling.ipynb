{
 "cells": [
  {
   "attachments": {},
   "cell_type": "markdown",
   "metadata": {},
   "source": [
    "#### `I`mports\n"
   ]
  },
  {
   "cell_type": "code",
   "execution_count": 1,
   "metadata": {},
   "outputs": [],
   "source": [
    "import numpy as np\n",
    "import pandas as pd\n",
    "\n",
    "import re\n",
    "\n",
    "from sklearn.feature_extraction.text import CountVectorizer, TfidfVectorizer\n",
    "\n",
    "from nltk.stem.porter import PorterStemmer\n",
    "from nltk.corpus import stopwords\n",
    "from nltk.sentiment.vader import SentimentIntensityAnalyzer\n",
    "\n",
    "from sklearn.model_selection import (\n",
    "    train_test_split,\n",
    "    GridSearchCV,\n",
    "    cross_val_score,\n",
    "    cross_val_predict,\n",
    ")\n",
    "from sklearn.pipeline import Pipeline\n",
    "from sklearn.metrics import (\n",
    "    confusion_matrix,\n",
    "    ConfusionMatrixDisplay,\n",
    "    classification_report,\n",
    "    RocCurveDisplay,\n",
    "    accuracy_score,\n",
    ")\n",
    "\n",
    "from sklearn.neighbors import KNeighborsClassifier\n",
    "from sklearn.linear_model import LogisticRegression\n",
    "from sklearn.naive_bayes import MultinomialNB\n",
    "from sklearn.tree import DecisionTreeClassifier\n",
    "from sklearn.ensemble import (\n",
    "    BaggingClassifier,\n",
    "    RandomForestClassifier,\n",
    "    ExtraTreesClassifier,\n",
    "    GradientBoostingClassifier,\n",
    "    AdaBoostClassifier,\n",
    "    VotingClassifier,\n",
    "    StackingClassifier,\n",
    ")\n",
    "from sklearn.preprocessing import StandardScaler\n",
    "\n",
    "from sklearn.compose import make_column_transformer\n",
    "\n",
    "# this setting widens how many characters pandas will display in a column:\n",
    "pd.options.display.max_colwidth = 400\n"
   ]
  },
  {
   "attachments": {},
   "cell_type": "markdown",
   "metadata": {},
   "source": [
    "`L`oad Data\n"
   ]
  },
  {
   "cell_type": "code",
   "execution_count": 2,
   "metadata": {},
   "outputs": [],
   "source": [
    "# Global Random State\n",
    "np.random.seed(42)\n"
   ]
  },
  {
   "cell_type": "code",
   "execution_count": 3,
   "metadata": {},
   "outputs": [
    {
     "data": {
      "text/plain": [
       "(12895, 20)"
      ]
     },
     "execution_count": 3,
     "metadata": {},
     "output_type": "execute_result"
    }
   ],
   "source": [
    "df = pd.read_csv(\"../data/after_eda/reddit_data.csv\")\n",
    "df.shape\n"
   ]
  },
  {
   "cell_type": "code",
   "execution_count": 4,
   "metadata": {},
   "outputs": [
    {
     "data": {
      "text/plain": [
       "selftext                      0\n",
       "title                         0\n",
       "score                         0\n",
       "domain                        0\n",
       "id                            0\n",
       "author                        0\n",
       "num_comments                  0\n",
       "url                           0\n",
       "created_utc                   0\n",
       "subreddit                     0\n",
       "selftext_length               0\n",
       "title_length                  0\n",
       "title_word_count              0\n",
       "selftext_word_count           0\n",
       "selftext_emoji_count          0\n",
       "title_emoji_count             0\n",
       "subreddit_text                0\n",
       "subreddit_text_length         0\n",
       "subreddit_text_word_count     0\n",
       "subreddit_text_emoji_count    0\n",
       "dtype: int64"
      ]
     },
     "execution_count": 4,
     "metadata": {},
     "output_type": "execute_result"
    }
   ],
   "source": [
    "df[\"selftext\"] = df[\"selftext\"].fillna(\"\")\n",
    "df.isna().sum()\n"
   ]
  },
  {
   "attachments": {},
   "cell_type": "markdown",
   "metadata": {},
   "source": [
    "---\n",
    "\n",
    "- Convert boardgames/wsb into binary labels\n"
   ]
  },
  {
   "cell_type": "code",
   "execution_count": 5,
   "metadata": {},
   "outputs": [],
   "source": [
    "df[\"subreddit\"] = df[\"subreddit\"].map({\"boardgames\": 0, \"wsb\": 1})\n"
   ]
  },
  {
   "attachments": {},
   "cell_type": "markdown",
   "metadata": {},
   "source": [
    "---\n",
    "\n",
    "- Setup data for modeling for `selftext`\n"
   ]
  },
  {
   "cell_type": "code",
   "execution_count": 6,
   "metadata": {},
   "outputs": [],
   "source": [
    "X = df[\"subreddit_text\"]\n",
    "y = df[\"subreddit\"]\n"
   ]
  },
  {
   "attachments": {},
   "cell_type": "markdown",
   "metadata": {},
   "source": [
    "- Baseline accuracy\n"
   ]
  },
  {
   "cell_type": "code",
   "execution_count": 7,
   "metadata": {},
   "outputs": [
    {
     "data": {
      "text/plain": [
       "1    0.571694\n",
       "0    0.428306\n",
       "Name: subreddit, dtype: float64"
      ]
     },
     "execution_count": 7,
     "metadata": {},
     "output_type": "execute_result"
    }
   ],
   "source": [
    "y.value_counts(normalize=True)\n"
   ]
  },
  {
   "cell_type": "code",
   "execution_count": 8,
   "metadata": {},
   "outputs": [],
   "source": [
    "# Split the data into the training and testing sets.\n",
    "X_train, X_test, y_train, y_test = train_test_split(\n",
    "    X, y, test_size=0.33, stratify=y, random_state=42\n",
    ")\n"
   ]
  },
  {
   "attachments": {},
   "cell_type": "markdown",
   "metadata": {},
   "source": [
    "---\n",
    "\n",
    "`P`reprocessing and Modeling\n"
   ]
  },
  {
   "cell_type": "code",
   "execution_count": 9,
   "metadata": {},
   "outputs": [],
   "source": [
    "# Instantiate a CountVectorizer.\n",
    "cvec = CountVectorizer(stop_words=stopwords.words(\"english\"))\n",
    "\n",
    "# Fit the vectorizer on our corpus.\n",
    "cvec.fit(X_train)\n",
    "\n",
    "# Transform the corpus.\n",
    "X_train = cvec.transform(X_train)\n",
    "\n",
    "X_test = cvec.transform(X_test)\n"
   ]
  },
  {
   "cell_type": "code",
   "execution_count": 10,
   "metadata": {},
   "outputs": [],
   "source": [
    "# Convert X_train into a DataFrame.\n",
    "# We will not actually use this for modeling,\n",
    "# this is just to visualize what is happening\n",
    "X_train_df = pd.DataFrame(X_train.todense(), columns=cvec.get_feature_names_out())\n",
    "\n",
    "# plot top occuring words\n",
    "X_train_df[\"boardgames_or_wsb\"] = y_train.values\n"
   ]
  },
  {
   "attachments": {},
   "cell_type": "markdown",
   "metadata": {},
   "source": [
    "- Check top 20 words used between 2 `subreddits`\n"
   ]
  },
  {
   "cell_type": "code",
   "execution_count": 11,
   "metadata": {},
   "outputs": [
    {
     "data": {
      "text/plain": [
       "<AxesSubplot: >"
      ]
     },
     "execution_count": 11,
     "metadata": {},
     "output_type": "execute_result"
    },
    {
     "data": {
      "image/png": "[encoded data removed]",
      "text/plain": [
       "<Figure size 432x288 with 1 Axes>"
      ]
     },
     "metadata": {
      "needs_background": "light"
     },
     "output_type": "display_data"
    }
   ],
   "source": [
    "X_train_df.groupby(\"boardgames_or_wsb\").sum().T.sort_values(1, ascending=True).tail(\n",
    "    20\n",
    ").plot.barh()\n"
   ]
  },
  {
   "cell_type": "code",
   "execution_count": 12,
   "metadata": {},
   "outputs": [],
   "source": [
    "# Redefine training and testing sets.\n",
    "X_train, X_test, y_train, y_test = train_test_split(\n",
    "    X, y, test_size=0.33, stratify=y, random_state=42\n",
    ")\n"
   ]
  },
  {
   "attachments": {},
   "cell_type": "markdown",
   "metadata": {},
   "source": [
    "---\n",
    "\n",
    "`G`lobal Methods\n"
   ]
  },
  {
   "cell_type": "code",
   "execution_count": 13,
   "metadata": {},
   "outputs": [],
   "source": [
    "def global_grid_search_cv(pipe, grid_params):\n",
    "    \"\"\"\n",
    "    Initialize grid search cv with necessary hyper params\n",
    "    \"\"\"\n",
    "    return GridSearchCV(pipe, grid_params, cv=5, n_jobs=-1)\n",
    "\n",
    "\n",
    "def print_model_stats(gs, X_train, X_test, y_train, y_test):\n",
    "    \"\"\"\n",
    "    Prints model performance\n",
    "    \"\"\"\n",
    "\n",
    "    line_break = \"\\n--------------------------------\\n\"\n",
    "    print(\n",
    "        f\"\"\"\n",
    "          {line_break}Model Best Score:\\n\\t{gs.best_score_}\n",
    "          {line_break}Model Best Params:\\n\\t{gs.best_params_}\n",
    "          {line_break}Model score:\n",
    "            \\n\\tTrain: {round(gs.score(X_train, y_train)*100, 1)}%\n",
    "            \\n\\tTest: {round(gs.score(X_test, y_test)*100, 1)}%\n",
    "        {line_break}Misclassification Rate:\n",
    "            \\n\\tTrain: {round((1 - gs.score(X_train, y_train))*100, 1)}%\n",
    "            \\n\\tTest: {round((1 - gs.score(X_test, y_test))*100, 1)}%{line_break}\n",
    "        \"\"\"\n",
    "    )\n",
    "\n",
    "\n",
    "def plot_confusion_matrix(gs, y_test, y_preds):\n",
    "    # View confusion matrix\n",
    "    cm = confusion_matrix(y_test, y_preds)\n",
    "    display = ConfusionMatrixDisplay(cm, display_labels=gs.classes_)\n",
    "    display.plot()\n",
    "\n",
    "\n",
    "def print_spec_sens(y_test, y_preds):\n",
    "    \"\"\"\n",
    "    Prints model specificity and sensitivity\n",
    "    \"\"\"\n",
    "    tn, fp, fn, tp = confusion_matrix(y_test, y_preds).ravel()\n",
    "    spec = tn / (tn + fp)\n",
    "    sens = tp / (tp + fn)\n",
    "    print(f\"Spec: {spec}\\nSens: {sens}\")\n",
    "\n",
    "\n",
    "def print_confidence_interval(pred_cross, n):\n",
    "    # 1.64 (90%)\n",
    "    # 1.96 (95%)\n",
    "    # 2.33 (98%)\n",
    "    # 2.58 (99%)\n",
    "    print(\n",
    "        f\"Confidence interval is : {round(pred_cross.mean()*100, 2)} \\u00B1 {round(1.96*pred_cross.std()/n**0.5*100, 2)}\"\n",
    "    )\n",
    "\n",
    "\n",
    "def print_classification_report(y_test, pred_cross):\n",
    "    print(\n",
    "        f\"Classifier Report:\\n{classification_report(y_test, pred_cross, labels=[1, 0])}\"\n",
    "    )\n",
    "\n",
    "\n",
    "def run_stats(gs, X_train, X_test, y_train, y_test):\n",
    "    y_pred = gs.predict(X_test)\n",
    "    score_cross = cross_val_score(gs.best_estimator_, X_train, y_train, cv=5)\n",
    "    pred_cross = cross_val_predict(gs.best_estimator_, X_train, y_train, cv=5)\n",
    "\n",
    "    print_model_stats(gs, X_train, X_test, y_train, y_test)\n",
    "\n",
    "    print_classification_report(y_train, pred_cross)\n",
    "\n",
    "    print_confidence_interval(score_cross, len(y_train))\n",
    "\n",
    "    plot_confusion_matrix(gs, y_test, y_pred)\n",
    "    print_spec_sens(y_test, y_pred)\n",
    "    RocCurveDisplay.from_estimator(gs, X_test, y_test)\n"
   ]
  },
  {
   "attachments": {},
   "cell_type": "markdown",
   "metadata": {},
   "source": [
    "`N`aive Bayes Modeling\n"
   ]
  },
  {
   "attachments": {},
   "cell_type": "markdown",
   "metadata": {},
   "source": [
    "- Transformer: CountVectorizer\n"
   ]
  },
  {
   "cell_type": "code",
   "execution_count": 14,
   "metadata": {},
   "outputs": [],
   "source": [
    "def naive_baye_model(X_train, y_train, vectorizer):\n",
    "    pipe = Pipeline(\n",
    "        [\n",
    "            (\"vec\", vectorizer()),\n",
    "            (\"nb\", MultinomialNB()),\n",
    "        ]\n",
    "    )\n",
    "\n",
    "    pipe_params = {\n",
    "        \"vec__max_features\": [2000, 3000, 4000, 5000],\n",
    "        \"vec__min_df\": [2, 3],\n",
    "        \"vec__max_df\": [0.9, 0.95],\n",
    "        \"vec__ngram_range\": [(1, 1), (2, 2)],\n",
    "        \"vec__stop_words\": [None, \"english\", stopwords.words(\"english\")],\n",
    "    }\n",
    "\n",
    "    # Init grid\n",
    "    gs = global_grid_search_cv(pipe, pipe_params)\n",
    "\n",
    "    # Fit GridSearch to training data.\n",
    "    gs.fit(X_train, y_train)\n",
    "\n",
    "    return gs\n",
    "\n",
    "\n",
    "def run_naive_baye_model(X_train, y_train, vectorizer):\n",
    "    gs_nb = naive_baye_model(X_train, y_train, CountVectorizer)\n",
    "\n",
    "    return gs_nb\n"
   ]
  },
  {
   "cell_type": "code",
   "execution_count": 15,
   "metadata": {},
   "outputs": [],
   "source": [
    "gs_nb_cvec = run_naive_baye_model(X_train, y_train, CountVectorizer)\n"
   ]
  },
  {
   "cell_type": "code",
   "execution_count": 16,
   "metadata": {},
   "outputs": [
    {
     "name": "stdout",
     "output_type": "stream",
     "text": [
      "\n",
      "          \n",
      "--------------------------------\n",
      "Model Best Score:\n",
      "\t0.9372606103497823\n",
      "          \n",
      "--------------------------------\n",
      "Model Best Params:\n",
      "\t{'vec__max_df': 0.9, 'vec__max_features': 4000, 'vec__min_df': 3, 'vec__ngram_range': (1, 1), 'vec__stop_words': 'english'}\n",
      "          \n",
      "--------------------------------\n",
      "Model score:\n",
      "            \n",
      "\tTrain: 94.4%\n",
      "            \n",
      "\tTest: 92.8%\n",
      "        \n",
      "--------------------------------\n",
      "Misclassification Rate:\n",
      "            \n",
      "\tTrain: 5.6%\n",
      "            \n",
      "\tTest: 7.2%\n",
      "--------------------------------\n",
      "\n",
      "        \n",
      "Classifier Report:\n",
      "              precision    recall  f1-score   support\n",
      "\n",
      "           1       0.96      0.93      0.94      4939\n",
      "           0       0.91      0.94      0.93      3700\n",
      "\n",
      "    accuracy                           0.94      8639\n",
      "   macro avg       0.93      0.94      0.94      8639\n",
      "weighted avg       0.94      0.94      0.94      8639\n",
      "\n",
      "Confidence interval is : 93.73 ± 0.01\n",
      "Spec: 0.927591881513988\n",
      "Sens: 0.9288943690916563\n"
     ]
    },
    {
     "data": {
      "image/png": "[encoded data removed]",
      "text/plain": [
       "<Figure size 432x288 with 2 Axes>"
      ]
     },
     "metadata": {
      "needs_background": "light"
     },
     "output_type": "display_data"
    },
    {
     "data": {
      "image/png": "[encoded data removed]",
      "text/plain": [
       "<Figure size 432x288 with 1 Axes>"
      ]
     },
     "metadata": {
      "needs_background": "light"
     },
     "output_type": "display_data"
    }
   ],
   "source": [
    "run_stats(gs_nb_cvec, X_train, X_test, y_train, y_test)\n"
   ]
  },
  {
   "attachments": {},
   "cell_type": "markdown",
   "metadata": {},
   "source": [
    "- Transformer: TfidVectorizer\n"
   ]
  },
  {
   "cell_type": "code",
   "execution_count": 17,
   "metadata": {},
   "outputs": [],
   "source": [
    "gs_nb_tfvid = run_naive_baye_model(X_train, y_train, TfidfVectorizer)\n"
   ]
  },
  {
   "cell_type": "code",
   "execution_count": 18,
   "metadata": {},
   "outputs": [
    {
     "name": "stdout",
     "output_type": "stream",
     "text": [
      "\n",
      "          \n",
      "--------------------------------\n",
      "Model Best Score:\n",
      "\t0.9372606103497823\n",
      "          \n",
      "--------------------------------\n",
      "Model Best Params:\n",
      "\t{'vec__max_df': 0.9, 'vec__max_features': 4000, 'vec__min_df': 3, 'vec__ngram_range': (1, 1), 'vec__stop_words': 'english'}\n",
      "          \n",
      "--------------------------------\n",
      "Model score:\n",
      "            \n",
      "\tTrain: 94.4%\n",
      "            \n",
      "\tTest: 92.8%\n",
      "        \n",
      "--------------------------------\n",
      "Misclassification Rate:\n",
      "            \n",
      "\tTrain: 5.6%\n",
      "            \n",
      "\tTest: 7.2%\n",
      "--------------------------------\n",
      "\n",
      "        \n",
      "Classifier Report:\n",
      "              precision    recall  f1-score   support\n",
      "\n",
      "           1       0.96      0.93      0.94      4939\n",
      "           0       0.91      0.94      0.93      3700\n",
      "\n",
      "    accuracy                           0.94      8639\n",
      "   macro avg       0.93      0.94      0.94      8639\n",
      "weighted avg       0.94      0.94      0.94      8639\n",
      "\n",
      "Confidence interval is : 93.73 ± 0.01\n",
      "Spec: 0.927591881513988\n",
      "Sens: 0.9288943690916563\n"
     ]
    },
    {
     "data": {
      "image/png": "[encoded data removed]",
      "text/plain": [
       "<Figure size 432x288 with 2 Axes>"
      ]
     },
     "metadata": {
      "needs_background": "light"
     },
     "output_type": "display_data"
    },
    {
     "data": {
      "image/png": "[encoded data removed]",
      "text/plain": [
       "<Figure size 432x288 with 1 Axes>"
      ]
     },
     "metadata": {
      "needs_background": "light"
     },
     "output_type": "display_data"
    }
   ],
   "source": [
    "run_stats(gs_nb_tfvid, X_train, X_test, y_train, y_test)\n"
   ]
  },
  {
   "attachments": {},
   "cell_type": "markdown",
   "metadata": {},
   "source": [
    "`L`ogistic Regression Modeling\n"
   ]
  },
  {
   "cell_type": "code",
   "execution_count": 19,
   "metadata": {},
   "outputs": [],
   "source": [
    "def log_reg_model(X_train, y_train, vectorizer):\n",
    "    pipe = Pipeline(\n",
    "        [\n",
    "            (\"vec\", vectorizer()),\n",
    "            (\"lr\", LogisticRegression()),\n",
    "        ]\n",
    "    )\n",
    "\n",
    "    pipe_params = {\n",
    "        \"vec__max_features\": [2000, 3000, 4000],\n",
    "        \"vec__stop_words\": [None, \"english\"],\n",
    "        \"vec__min_df\": [2, 4],\n",
    "        \"vec__max_df\": [1.0, 0.8, 0.5],\n",
    "        \"lr__penalty\": [\"l1\", \"l2\", \"elasticnet\", None],\n",
    "    }\n",
    "\n",
    "    # Init grid\n",
    "    gs = global_grid_search_cv(pipe, pipe_params)\n",
    "\n",
    "    # Fit GridSearch to training data.\n",
    "    gs.fit(X_train, y_train)\n",
    "\n",
    "    return gs\n",
    "\n",
    "\n",
    "def run_log_reg_model(X_train, y_train, vectorizer):\n",
    "    gs_lr = log_reg_model(X_train, y_train, vectorizer)\n",
    "\n",
    "    return gs_lr\n"
   ]
  },
  {
   "cell_type": "code",
   "execution_count": 20,
   "metadata": {},
   "outputs": [
    {
     "name": "stderr",
     "output_type": "stream",
     "text": [
      "C:\\Users\\btoli\\AppData\\Local\\Packages\\PythonSoftwareFoundation.Python.3.9_qbz5n2kfra8p0\\LocalCache\\local-packages\\Python39\\site-packages\\sklearn\\model_selection\\_validation.py:378: FitFailedWarning: \n",
      "360 fits failed out of a total of 720.\n",
      "The score on these train-test partitions for these parameters will be set to nan.\n",
      "If these failures are not expected, you can try to debug them by setting error_score='raise'.\n",
      "\n",
      "Below are more details about the failures:\n",
      "--------------------------------------------------------------------------------\n",
      "180 fits failed with the following error:\n",
      "Traceback (most recent call last):\n",
      "  File \"C:\\Users\\btoli\\AppData\\Local\\Packages\\PythonSoftwareFoundation.Python.3.9_qbz5n2kfra8p0\\LocalCache\\local-packages\\Python39\\site-packages\\sklearn\\model_selection\\_validation.py\", line 686, in _fit_and_score\n",
      "    estimator.fit(X_train, y_train, **fit_params)\n",
      "  File \"C:\\Users\\btoli\\AppData\\Local\\Packages\\PythonSoftwareFoundation.Python.3.9_qbz5n2kfra8p0\\LocalCache\\local-packages\\Python39\\site-packages\\sklearn\\pipeline.py\", line 406, in fit\n",
      "    self._final_estimator.fit(Xt, y, **fit_params_last_step)\n",
      "  File \"C:\\Users\\btoli\\AppData\\Local\\Packages\\PythonSoftwareFoundation.Python.3.9_qbz5n2kfra8p0\\LocalCache\\local-packages\\Python39\\site-packages\\sklearn\\linear_model\\_logistic.py\", line 1162, in fit\n",
      "    solver = _check_solver(self.solver, self.penalty, self.dual)\n",
      "  File \"C:\\Users\\btoli\\AppData\\Local\\Packages\\PythonSoftwareFoundation.Python.3.9_qbz5n2kfra8p0\\LocalCache\\local-packages\\Python39\\site-packages\\sklearn\\linear_model\\_logistic.py\", line 54, in _check_solver\n",
      "    raise ValueError(\n",
      "ValueError: Solver lbfgs supports only 'l2' or 'none' penalties, got l1 penalty.\n",
      "\n",
      "--------------------------------------------------------------------------------\n",
      "180 fits failed with the following error:\n",
      "Traceback (most recent call last):\n",
      "  File \"C:\\Users\\btoli\\AppData\\Local\\Packages\\PythonSoftwareFoundation.Python.3.9_qbz5n2kfra8p0\\LocalCache\\local-packages\\Python39\\site-packages\\sklearn\\model_selection\\_validation.py\", line 686, in _fit_and_score\n",
      "    estimator.fit(X_train, y_train, **fit_params)\n",
      "  File \"C:\\Users\\btoli\\AppData\\Local\\Packages\\PythonSoftwareFoundation.Python.3.9_qbz5n2kfra8p0\\LocalCache\\local-packages\\Python39\\site-packages\\sklearn\\pipeline.py\", line 406, in fit\n",
      "    self._final_estimator.fit(Xt, y, **fit_params_last_step)\n",
      "  File \"C:\\Users\\btoli\\AppData\\Local\\Packages\\PythonSoftwareFoundation.Python.3.9_qbz5n2kfra8p0\\LocalCache\\local-packages\\Python39\\site-packages\\sklearn\\linear_model\\_logistic.py\", line 1162, in fit\n",
      "    solver = _check_solver(self.solver, self.penalty, self.dual)\n",
      "  File \"C:\\Users\\btoli\\AppData\\Local\\Packages\\PythonSoftwareFoundation.Python.3.9_qbz5n2kfra8p0\\LocalCache\\local-packages\\Python39\\site-packages\\sklearn\\linear_model\\_logistic.py\", line 54, in _check_solver\n",
      "    raise ValueError(\n",
      "ValueError: Solver lbfgs supports only 'l2' or 'none' penalties, got elasticnet penalty.\n",
      "\n",
      "  warnings.warn(some_fits_failed_message, FitFailedWarning)\n",
      "C:\\Users\\btoli\\AppData\\Local\\Packages\\PythonSoftwareFoundation.Python.3.9_qbz5n2kfra8p0\\LocalCache\\local-packages\\Python39\\site-packages\\sklearn\\model_selection\\_search.py:953: UserWarning: One or more of the test scores are non-finite: [       nan        nan        nan        nan        nan        nan\n",
      "        nan        nan        nan        nan        nan        nan\n",
      "        nan        nan        nan        nan        nan        nan\n",
      "        nan        nan        nan        nan        nan        nan\n",
      "        nan        nan        nan        nan        nan        nan\n",
      "        nan        nan        nan        nan        nan        nan\n",
      " 0.94131234 0.94177504 0.94096505 0.94177497 0.94293271 0.94316419\n",
      " 0.94270123 0.94293278 0.9438587  0.94385857 0.94409025 0.94339554\n",
      " 0.94131234 0.94177504 0.94096505 0.94177497 0.94293271 0.94316419\n",
      " 0.94270123 0.94293278 0.9438587  0.94385857 0.94409025 0.94339554\n",
      " 0.94131234 0.94177504 0.94096505 0.94177497 0.94293271 0.94316419\n",
      " 0.94270123 0.94293278 0.9438587  0.94385857 0.94409025 0.94339554\n",
      "        nan        nan        nan        nan        nan        nan\n",
      "        nan        nan        nan        nan        nan        nan\n",
      "        nan        nan        nan        nan        nan        nan\n",
      "        nan        nan        nan        nan        nan        nan\n",
      "        nan        nan        nan        nan        nan        nan\n",
      "        nan        nan        nan        nan        nan        nan\n",
      " 0.9190875  0.92406489 0.92140299 0.92452799 0.92429698 0.93286226\n",
      " 0.92232918 0.9334409  0.92290849 0.93228369 0.92371854 0.93263078\n",
      " 0.9190875  0.92406489 0.92140299 0.92452799 0.92429698 0.93286226\n",
      " 0.92232918 0.9334409  0.92290849 0.93228369 0.92371854 0.93263078\n",
      " 0.9190875  0.92406489 0.92140299 0.92452799 0.92429698 0.93286226\n",
      " 0.92232918 0.9334409  0.92290849 0.93228369 0.92371854 0.93263078]\n",
      "  warnings.warn(\n"
     ]
    }
   ],
   "source": [
    "gs_lr_cvec = run_log_reg_model(X_train, y_train, CountVectorizer)\n"
   ]
  },
  {
   "cell_type": "code",
   "execution_count": 21,
   "metadata": {},
   "outputs": [
    {
     "name": "stdout",
     "output_type": "stream",
     "text": [
      "\n",
      "          \n",
      "--------------------------------\n",
      "Model Best Score:\n",
      "\t0.9440902523107937\n",
      "          \n",
      "--------------------------------\n",
      "Model Best Params:\n",
      "\t{'lr__penalty': 'l2', 'vec__max_df': 1.0, 'vec__max_features': 4000, 'vec__min_df': 4, 'vec__stop_words': None}\n",
      "          \n",
      "--------------------------------\n",
      "Model score:\n",
      "            \n",
      "\tTrain: 97.5%\n",
      "            \n",
      "\tTest: 93.8%\n",
      "        \n",
      "--------------------------------\n",
      "Misclassification Rate:\n",
      "            \n",
      "\tTrain: 2.5%\n",
      "            \n",
      "\tTest: 6.2%\n",
      "--------------------------------\n",
      "\n",
      "        \n",
      "Classifier Report:\n",
      "              precision    recall  f1-score   support\n",
      "\n",
      "           1       0.92      0.99      0.95      4939\n",
      "           0       0.98      0.89      0.93      3700\n",
      "\n",
      "    accuracy                           0.94      8639\n",
      "   macro avg       0.95      0.94      0.94      8639\n",
      "weighted avg       0.95      0.94      0.94      8639\n",
      "\n",
      "Confidence interval is : 94.41 ± 0.01\n",
      "Spec: 0.8694459681843115\n",
      "Sens: 0.988491574188245\n"
     ]
    },
    {
     "data": {
      "image/png": "[encoded data removed]",
      "text/plain": [
       "<Figure size 432x288 with 2 Axes>"
      ]
     },
     "metadata": {
      "needs_background": "light"
     },
     "output_type": "display_data"
    },
    {
     "data": {
      "image/png": "[encoded data removed]",
      "text/plain": [
       "<Figure size 432x288 with 1 Axes>"
      ]
     },
     "metadata": {
      "needs_background": "light"
     },
     "output_type": "display_data"
    }
   ],
   "source": [
    "run_stats(gs_lr_cvec, X_train, X_test, y_train, y_test)\n"
   ]
  },
  {
   "attachments": {},
   "cell_type": "markdown",
   "metadata": {},
   "source": [
    "- `TF-ID`\n"
   ]
  },
  {
   "cell_type": "code",
   "execution_count": 22,
   "metadata": {},
   "outputs": [
    {
     "name": "stderr",
     "output_type": "stream",
     "text": [
      "C:\\Users\\btoli\\AppData\\Local\\Packages\\PythonSoftwareFoundation.Python.3.9_qbz5n2kfra8p0\\LocalCache\\local-packages\\Python39\\site-packages\\sklearn\\model_selection\\_validation.py:378: FitFailedWarning: \n",
      "360 fits failed out of a total of 720.\n",
      "The score on these train-test partitions for these parameters will be set to nan.\n",
      "If these failures are not expected, you can try to debug them by setting error_score='raise'.\n",
      "\n",
      "Below are more details about the failures:\n",
      "--------------------------------------------------------------------------------\n",
      "180 fits failed with the following error:\n",
      "Traceback (most recent call last):\n",
      "  File \"C:\\Users\\btoli\\AppData\\Local\\Packages\\PythonSoftwareFoundation.Python.3.9_qbz5n2kfra8p0\\LocalCache\\local-packages\\Python39\\site-packages\\sklearn\\model_selection\\_validation.py\", line 686, in _fit_and_score\n",
      "    estimator.fit(X_train, y_train, **fit_params)\n",
      "  File \"C:\\Users\\btoli\\AppData\\Local\\Packages\\PythonSoftwareFoundation.Python.3.9_qbz5n2kfra8p0\\LocalCache\\local-packages\\Python39\\site-packages\\sklearn\\pipeline.py\", line 406, in fit\n",
      "    self._final_estimator.fit(Xt, y, **fit_params_last_step)\n",
      "  File \"C:\\Users\\btoli\\AppData\\Local\\Packages\\PythonSoftwareFoundation.Python.3.9_qbz5n2kfra8p0\\LocalCache\\local-packages\\Python39\\site-packages\\sklearn\\linear_model\\_logistic.py\", line 1162, in fit\n",
      "    solver = _check_solver(self.solver, self.penalty, self.dual)\n",
      "  File \"C:\\Users\\btoli\\AppData\\Local\\Packages\\PythonSoftwareFoundation.Python.3.9_qbz5n2kfra8p0\\LocalCache\\local-packages\\Python39\\site-packages\\sklearn\\linear_model\\_logistic.py\", line 54, in _check_solver\n",
      "    raise ValueError(\n",
      "ValueError: Solver lbfgs supports only 'l2' or 'none' penalties, got l1 penalty.\n",
      "\n",
      "--------------------------------------------------------------------------------\n",
      "180 fits failed with the following error:\n",
      "Traceback (most recent call last):\n",
      "  File \"C:\\Users\\btoli\\AppData\\Local\\Packages\\PythonSoftwareFoundation.Python.3.9_qbz5n2kfra8p0\\LocalCache\\local-packages\\Python39\\site-packages\\sklearn\\model_selection\\_validation.py\", line 686, in _fit_and_score\n",
      "    estimator.fit(X_train, y_train, **fit_params)\n",
      "  File \"C:\\Users\\btoli\\AppData\\Local\\Packages\\PythonSoftwareFoundation.Python.3.9_qbz5n2kfra8p0\\LocalCache\\local-packages\\Python39\\site-packages\\sklearn\\pipeline.py\", line 406, in fit\n",
      "    self._final_estimator.fit(Xt, y, **fit_params_last_step)\n",
      "  File \"C:\\Users\\btoli\\AppData\\Local\\Packages\\PythonSoftwareFoundation.Python.3.9_qbz5n2kfra8p0\\LocalCache\\local-packages\\Python39\\site-packages\\sklearn\\linear_model\\_logistic.py\", line 1162, in fit\n",
      "    solver = _check_solver(self.solver, self.penalty, self.dual)\n",
      "  File \"C:\\Users\\btoli\\AppData\\Local\\Packages\\PythonSoftwareFoundation.Python.3.9_qbz5n2kfra8p0\\LocalCache\\local-packages\\Python39\\site-packages\\sklearn\\linear_model\\_logistic.py\", line 54, in _check_solver\n",
      "    raise ValueError(\n",
      "ValueError: Solver lbfgs supports only 'l2' or 'none' penalties, got elasticnet penalty.\n",
      "\n",
      "  warnings.warn(some_fits_failed_message, FitFailedWarning)\n",
      "C:\\Users\\btoli\\AppData\\Local\\Packages\\PythonSoftwareFoundation.Python.3.9_qbz5n2kfra8p0\\LocalCache\\local-packages\\Python39\\site-packages\\sklearn\\model_selection\\_search.py:953: UserWarning: One or more of the test scores are non-finite: [       nan        nan        nan        nan        nan        nan\n",
      "        nan        nan        nan        nan        nan        nan\n",
      "        nan        nan        nan        nan        nan        nan\n",
      "        nan        nan        nan        nan        nan        nan\n",
      "        nan        nan        nan        nan        nan        nan\n",
      "        nan        nan        nan        nan        nan        nan\n",
      " 0.93598827 0.93841862 0.93587259 0.93841855 0.93702946 0.93946022\n",
      " 0.9371452  0.93969164 0.93737682 0.93911286 0.93783992 0.93934435\n",
      " 0.93598827 0.93841862 0.93587259 0.93841855 0.93702946 0.93946022\n",
      " 0.9371452  0.93969164 0.93737682 0.93911286 0.93783992 0.93934435\n",
      " 0.93598827 0.93841862 0.93587259 0.93841855 0.93702946 0.93946022\n",
      " 0.9371452  0.93969164 0.93737682 0.93911286 0.93783992 0.93934435\n",
      "        nan        nan        nan        nan        nan        nan\n",
      "        nan        nan        nan        nan        nan        nan\n",
      "        nan        nan        nan        nan        nan        nan\n",
      "        nan        nan        nan        nan        nan        nan\n",
      "        nan        nan        nan        nan        nan        nan\n",
      "        nan        nan        nan        nan        nan        nan\n",
      " 0.91526886 0.92313937 0.91573149 0.92267587 0.92256033 0.93216775\n",
      " 0.92186589 0.93274652 0.92649672 0.93332502 0.92672767 0.93471418\n",
      " 0.91526886 0.92313937 0.91573149 0.92267587 0.92256033 0.93216775\n",
      " 0.92186589 0.93274652 0.92649672 0.93332502 0.92672767 0.93471418\n",
      " 0.91526886 0.92313937 0.91573149 0.92267587 0.92256033 0.93216775\n",
      " 0.92186589 0.93274652 0.92649672 0.93332502 0.92672767 0.93471418]\n",
      "  warnings.warn(\n"
     ]
    }
   ],
   "source": [
    "gs_lr_tvec = run_log_reg_model(X_train, y_train, TfidfVectorizer)\n"
   ]
  },
  {
   "cell_type": "code",
   "execution_count": 23,
   "metadata": {},
   "outputs": [
    {
     "name": "stdout",
     "output_type": "stream",
     "text": [
      "\n",
      "          \n",
      "--------------------------------\n",
      "Model Best Score:\n",
      "\t0.9396916350339918\n",
      "          \n",
      "--------------------------------\n",
      "Model Best Params:\n",
      "\t{'lr__penalty': 'l2', 'vec__max_df': 1.0, 'vec__max_features': 3000, 'vec__min_df': 4, 'vec__stop_words': 'english'}\n",
      "          \n",
      "--------------------------------\n",
      "Model score:\n",
      "            \n",
      "\tTrain: 95.9%\n",
      "            \n",
      "\tTest: 93.8%\n",
      "        \n",
      "--------------------------------\n",
      "Misclassification Rate:\n",
      "            \n",
      "\tTrain: 4.1%\n",
      "            \n",
      "\tTest: 6.2%\n",
      "--------------------------------\n",
      "\n",
      "        \n",
      "Classifier Report:\n",
      "              precision    recall  f1-score   support\n",
      "\n",
      "           1       0.91      0.99      0.95      4939\n",
      "           0       0.98      0.87      0.93      3700\n",
      "\n",
      "    accuracy                           0.94      8639\n",
      "   macro avg       0.95      0.93      0.94      8639\n",
      "weighted avg       0.94      0.94      0.94      8639\n",
      "\n",
      "Confidence interval is : 93.97 ± 0.01\n",
      "Spec: 0.8661546900713111\n",
      "Sens: 0.9917796958487464\n"
     ]
    },
    {
     "data": {
      "image/png": "[encoded data removed]",
      "text/plain": [
       "<Figure size 432x288 with 2 Axes>"
      ]
     },
     "metadata": {
      "needs_background": "light"
     },
     "output_type": "display_data"
    },
    {
     "data": {
      "image/png": "[encoded data removed]",
      "text/plain": [
       "<Figure size 432x288 with 1 Axes>"
      ]
     },
     "metadata": {
      "needs_background": "light"
     },
     "output_type": "display_data"
    }
   ],
   "source": [
    "run_stats(gs_lr_tvec, X_train, X_test, y_train, y_test)\n"
   ]
  },
  {
   "attachments": {},
   "cell_type": "markdown",
   "metadata": {},
   "source": [
    "`KNN` Modeling\n"
   ]
  },
  {
   "attachments": {},
   "cell_type": "markdown",
   "metadata": {},
   "source": [
    "- `TF-ID`\n"
   ]
  },
  {
   "cell_type": "code",
   "execution_count": 24,
   "metadata": {},
   "outputs": [],
   "source": [
    "def knn_model(X_train, y_train, vectorizer):\n",
    "    pipe = Pipeline(\n",
    "        [\n",
    "            (\"vec\", vectorizer()),\n",
    "            (\"ss\", StandardScaler(with_mean=False)),\n",
    "            (\"knn\", KNeighborsClassifier()),\n",
    "        ]\n",
    "    )\n",
    "\n",
    "    pipe_params = {\n",
    "        \"vec__max_features\": [2000, 3000, 4000],\n",
    "        \"vec__stop_words\": [None, \"english\"],\n",
    "        \"vec__min_df\": [2, 4],\n",
    "        \"vec__max_df\": [1.0, 0.8, 0.5],\n",
    "        \"knn__n_neighbors\": [3, 5, 11],\n",
    "    }\n",
    "\n",
    "    # Init grid\n",
    "    gs = global_grid_search_cv(pipe, pipe_params)\n",
    "\n",
    "    # Fit GridSearch to training data.\n",
    "    gs.fit(X_train, y_train)\n",
    "\n",
    "    return gs\n",
    "\n",
    "\n",
    "def run_knn_model(X_train, y_train, vectorizer):\n",
    "    gs_knn_tvec = knn_model(X_train, y_train, vectorizer)\n",
    "\n",
    "    return gs_knn_tvec\n"
   ]
  },
  {
   "cell_type": "code",
   "execution_count": 25,
   "metadata": {},
   "outputs": [],
   "source": [
    "gs_knn_tvec = run_knn_model(X_train, y_train, TfidfVectorizer)\n"
   ]
  },
  {
   "cell_type": "code",
   "execution_count": 26,
   "metadata": {},
   "outputs": [
    {
     "name": "stdout",
     "output_type": "stream",
     "text": [
      "\n",
      "          \n",
      "--------------------------------\n",
      "Model Best Score:\n",
      "\t0.6876926778399708\n",
      "          \n",
      "--------------------------------\n",
      "Model Best Params:\n",
      "\t{'knn__n_neighbors': 3, 'vec__max_df': 1.0, 'vec__max_features': 2000, 'vec__min_df': 2, 'vec__stop_words': 'english'}\n",
      "          \n",
      "--------------------------------\n",
      "Model score:\n",
      "            \n",
      "\tTrain: 77.9%\n",
      "            \n",
      "\tTest: 68.1%\n",
      "        \n",
      "--------------------------------\n",
      "Misclassification Rate:\n",
      "            \n",
      "\tTrain: 22.1%\n",
      "            \n",
      "\tTest: 31.9%\n",
      "--------------------------------\n",
      "\n",
      "        \n",
      "Classifier Report:\n",
      "              precision    recall  f1-score   support\n",
      "\n",
      "           1       0.66      0.93      0.77      4939\n",
      "           0       0.80      0.36      0.50      3700\n",
      "\n",
      "    accuracy                           0.69      8639\n",
      "   macro avg       0.73      0.65      0.64      8639\n",
      "weighted avg       0.72      0.69      0.66      8639\n",
      "\n",
      "Confidence interval is : 68.91 ± 0.06\n",
      "Spec: 0.3483269336258914\n",
      "Sens: 0.9309494451294698\n"
     ]
    },
    {
     "data": {
      "image/png": "[encoded data removed]",
      "text/plain": [
       "<Figure size 432x288 with 2 Axes>"
      ]
     },
     "metadata": {
      "needs_background": "light"
     },
     "output_type": "display_data"
    },
    {
     "data": {
      "image/png": "[encoded data removed]",
      "text/plain": [
       "<Figure size 432x288 with 1 Axes>"
      ]
     },
     "metadata": {
      "needs_background": "light"
     },
     "output_type": "display_data"
    }
   ],
   "source": [
    "run_stats(gs_knn_tvec, X_train, X_test, y_train, y_test)\n"
   ]
  },
  {
   "attachments": {},
   "cell_type": "markdown",
   "metadata": {},
   "source": [
    "---\n",
    "\n",
    "`D`ecision Tree Model\n"
   ]
  },
  {
   "cell_type": "code",
   "execution_count": 27,
   "metadata": {},
   "outputs": [],
   "source": [
    "def decision_tree_model(X_train, y_train, vectorizer):\n",
    "    pipe = Pipeline(\n",
    "        [\n",
    "            (\"vec\", vectorizer()),\n",
    "            (\"dt\", DecisionTreeClassifier()),\n",
    "        ]\n",
    "    )\n",
    "\n",
    "    pipe_params = {\n",
    "        \"vec__max_features\": [2000, 3000, 4000, 5000],\n",
    "        \"vec__min_df\": [2, 3],\n",
    "        \"vec__max_df\": [0.9, 0.95],\n",
    "        \"vec__ngram_range\": [(1, 1), (2, 2)],\n",
    "        \"vec__stop_words\": [None, \"english\", stopwords.words(\"english\")],\n",
    "        \"dt__max_depth\": [5, 7, 9],\n",
    "        \"dt__min_samples_leaf\": [3, 5, 7],\n",
    "        \"dt__min_samples_split\": [7, 10],\n",
    "        \"dt__ccp_alpha\": [0.01],\n",
    "    }\n",
    "\n",
    "    # Init grid\n",
    "    gs = global_grid_search_cv(pipe, pipe_params)\n",
    "\n",
    "    # Fit GridSearch to training data.\n",
    "    gs.fit(X_train, y_train)\n",
    "\n",
    "    return gs\n",
    "\n",
    "\n",
    "def run_dt_model(X_train, y_train, vectorizer):\n",
    "    return decision_tree_model(X_train, y_train, vectorizer)\n"
   ]
  },
  {
   "cell_type": "code",
   "execution_count": 28,
   "metadata": {},
   "outputs": [],
   "source": [
    "gs_dt_tvec = run_dt_model(X_train, y_train, TfidfVectorizer)\n"
   ]
  },
  {
   "cell_type": "code",
   "execution_count": 29,
   "metadata": {},
   "outputs": [
    {
     "name": "stdout",
     "output_type": "stream",
     "text": [
      "\n",
      "          \n",
      "--------------------------------\n",
      "Model Best Score:\n",
      "\t0.8634099755516953\n",
      "          \n",
      "--------------------------------\n",
      "Model Best Params:\n",
      "\t{'dt__ccp_alpha': 0.01, 'dt__max_depth': 5, 'dt__min_samples_leaf': 3, 'dt__min_samples_split': 7, 'vec__max_df': 0.9, 'vec__max_features': 5000, 'vec__min_df': 2, 'vec__ngram_range': (1, 1), 'vec__stop_words': None}\n",
      "          \n",
      "--------------------------------\n",
      "Model score:\n",
      "            \n",
      "\tTrain: 86.4%\n",
      "            \n",
      "\tTest: 85.0%\n",
      "        \n",
      "--------------------------------\n",
      "Misclassification Rate:\n",
      "            \n",
      "\tTrain: 13.6%\n",
      "            \n",
      "\tTest: 15.0%\n",
      "--------------------------------\n",
      "\n",
      "        \n",
      "Classifier Report:\n",
      "              precision    recall  f1-score   support\n",
      "\n",
      "           1       0.81      0.99      0.89      4939\n",
      "           0       0.99      0.69      0.81      3700\n",
      "\n",
      "    accuracy                           0.86      8639\n",
      "   macro avg       0.90      0.84      0.85      8639\n",
      "weighted avg       0.89      0.86      0.86      8639\n",
      "\n",
      "Confidence interval is : 86.34 ± 0.01\n",
      "Spec: 0.662095447065277\n",
      "Sens: 0.9913686806411838\n"
     ]
    },
    {
     "data": {
      "image/png": "[encoded data removed]",
      "text/plain": [
       "<Figure size 432x288 with 2 Axes>"
      ]
     },
     "metadata": {
      "needs_background": "light"
     },
     "output_type": "display_data"
    },
    {
     "data": {
      "image/png": "[encoded data removed]",
      "text/plain": [
       "<Figure size 432x288 with 1 Axes>"
      ]
     },
     "metadata": {
      "needs_background": "light"
     },
     "output_type": "display_data"
    }
   ],
   "source": [
    "run_stats(gs_dt_tvec, X_train, X_test, y_train, y_test)\n"
   ]
  },
  {
   "cell_type": "code",
   "execution_count": 30,
   "metadata": {},
   "outputs": [
    {
     "data": {
      "text/plain": [
       "array([0., 0., 0., ..., 0., 0., 0.])"
      ]
     },
     "execution_count": 30,
     "metadata": {},
     "output_type": "execute_result"
    }
   ],
   "source": [
    "gs_dt_tvec.best_estimator_.named_steps[\"dt\"].feature_importances_\n"
   ]
  },
  {
   "attachments": {},
   "cell_type": "markdown",
   "metadata": {},
   "source": [
    "---\n",
    "\n",
    "`B`agging Classifier Model\n"
   ]
  },
  {
   "cell_type": "code",
   "execution_count": 31,
   "metadata": {},
   "outputs": [],
   "source": [
    "def bagging_model(X_train, y_train, vectorizer):\n",
    "    pipe = Pipeline(\n",
    "        [\n",
    "            (\"vec\", vectorizer()),\n",
    "            (\"bag\", BaggingClassifier()),\n",
    "        ]\n",
    "    )\n",
    "\n",
    "    pipe_params = {\n",
    "        \"vec__max_features\": [2000, 3000, 4000, 5000],\n",
    "        \"vec__min_df\": [2, 3],\n",
    "        \"vec__max_df\": [0.9, 0.95],\n",
    "        \"vec__ngram_range\": [(1, 1), (2, 2)],\n",
    "        \"vec__stop_words\": [None, \"english\", stopwords.words(\"english\")],\n",
    "    }\n",
    "\n",
    "    # Init grid\n",
    "    gs = global_grid_search_cv(pipe, pipe_params)\n",
    "\n",
    "    # Fit GridSearch to training data.\n",
    "    gs.fit(X_train, y_train)\n",
    "\n",
    "    return gs\n",
    "\n",
    "\n",
    "def run_bagging_model(X_train, y_train, vectorizer):\n",
    "    return bagging_model(X_train, y_train, vectorizer)\n"
   ]
  },
  {
   "cell_type": "code",
   "execution_count": 32,
   "metadata": {},
   "outputs": [],
   "source": [
    "gs_bag_tvec = bagging_model(X_train, y_train, TfidfVectorizer)\n"
   ]
  },
  {
   "cell_type": "code",
   "execution_count": 33,
   "metadata": {},
   "outputs": [
    {
     "name": "stdout",
     "output_type": "stream",
     "text": [
      "\n",
      "          \n",
      "--------------------------------\n",
      "Model Best Score:\n",
      "\t0.9339039948315426\n",
      "          \n",
      "--------------------------------\n",
      "Model Best Params:\n",
      "\t{'vec__max_df': 0.9, 'vec__max_features': 4000, 'vec__min_df': 3, 'vec__ngram_range': (1, 1), 'vec__stop_words': 'english'}\n",
      "          \n",
      "--------------------------------\n",
      "Model score:\n",
      "            \n",
      "\tTrain: 98.7%\n",
      "            \n",
      "\tTest: 93.1%\n",
      "        \n",
      "--------------------------------\n",
      "Misclassification Rate:\n",
      "            \n",
      "\tTrain: 1.3%\n",
      "            \n",
      "\tTest: 6.9%\n",
      "--------------------------------\n",
      "\n",
      "        \n",
      "Classifier Report:\n",
      "              precision    recall  f1-score   support\n",
      "\n",
      "           1       0.93      0.96      0.94      4939\n",
      "           0       0.95      0.90      0.92      3700\n",
      "\n",
      "    accuracy                           0.93      8639\n",
      "   macro avg       0.94      0.93      0.93      8639\n",
      "weighted avg       0.93      0.93      0.93      8639\n",
      "\n",
      "Confidence interval is : 93.23 ± 0.01\n",
      "Spec: 0.8875479978058146\n",
      "Sens: 0.9630086313193588\n"
     ]
    },
    {
     "data": {
      "image/png": "[encoded data removed]",
      "text/plain": [
       "<Figure size 432x288 with 2 Axes>"
      ]
     },
     "metadata": {
      "needs_background": "light"
     },
     "output_type": "display_data"
    },
    {
     "data": {
      "image/png": "[encoded data removed]",
      "text/plain": [
       "<Figure size 432x288 with 1 Axes>"
      ]
     },
     "metadata": {
      "needs_background": "light"
     },
     "output_type": "display_data"
    }
   ],
   "source": [
    "run_stats(gs_bag_tvec, X_train, X_test, y_train, y_test)\n"
   ]
  },
  {
   "attachments": {},
   "cell_type": "markdown",
   "metadata": {},
   "source": [
    "---\n",
    "\n",
    "`R`andom Forest Model\n"
   ]
  },
  {
   "cell_type": "code",
   "execution_count": 34,
   "metadata": {},
   "outputs": [],
   "source": [
    "def rft_model(X_train, y_train, vectorizer):\n",
    "    pipe = Pipeline(\n",
    "        [\n",
    "            (\"vec\", vectorizer()),\n",
    "            (\"rft\", RandomForestClassifier()),\n",
    "        ]\n",
    "    )\n",
    "\n",
    "    pipe_params = {\n",
    "        \"vec__max_features\": [2000, 3000, 4000, 5000],\n",
    "        \"vec__min_df\": [2, 3],\n",
    "        \"vec__max_df\": [0.9, 0.95],\n",
    "        \"vec__ngram_range\": [(1, 1), (2, 2)],\n",
    "        \"vec__stop_words\": [None, \"english\", stopwords.words(\"english\")],\n",
    "        \"rft__max_depth\": [5, 7, 9],\n",
    "        \"rft__min_samples_leaf\": [3, 5, 7],\n",
    "        \"rft__min_samples_split\": [7, 10],\n",
    "        \"rft__ccp_alpha\": [0.01],\n",
    "    }\n",
    "\n",
    "    # Init grid\n",
    "    gs = global_grid_search_cv(pipe, pipe_params)\n",
    "\n",
    "    # Fit GridSearch to training data.\n",
    "    gs.fit(X_train, y_train)\n",
    "\n",
    "    return gs\n",
    "\n",
    "\n",
    "def run_rft_model(X_train, y_train, vectorizer):\n",
    "    return rft_model(X_train, y_train, vectorizer)\n"
   ]
  },
  {
   "cell_type": "code",
   "execution_count": 35,
   "metadata": {},
   "outputs": [],
   "source": [
    "gs_rft_tvec = rft_model(X_train, y_train, TfidfVectorizer)\n"
   ]
  },
  {
   "cell_type": "code",
   "execution_count": 36,
   "metadata": {},
   "outputs": [
    {
     "name": "stdout",
     "output_type": "stream",
     "text": [
      "\n",
      "          \n",
      "--------------------------------\n",
      "Model Best Score:\n",
      "\t0.8393344940916597\n",
      "          \n",
      "--------------------------------\n",
      "Model Best Params:\n",
      "\t{'rft__ccp_alpha': 0.01, 'rft__max_depth': 9, 'rft__min_samples_leaf': 5, 'rft__min_samples_split': 10, 'vec__max_df': 0.9, 'vec__max_features': 2000, 'vec__min_df': 2, 'vec__ngram_range': (1, 1), 'vec__stop_words': ['i', 'me', 'my', 'myself', 'we', 'our', 'ours', 'ourselves', 'you', \"you're\", \"you've\", \"you'll\", \"you'd\", 'your', 'yours', 'yourself', 'yourselves', 'he', 'him', 'his', 'himself', 'she', \"she's\", 'her', 'hers', 'herself', 'it', \"it's\", 'its', 'itself', 'they', 'them', 'their', 'theirs', 'themselves', 'what', 'which', 'who', 'whom', 'this', 'that', \"that'll\", 'these', 'those', 'am', 'is', 'are', 'was', 'were', 'be', 'been', 'being', 'have', 'has', 'had', 'having', 'do', 'does', 'did', 'doing', 'a', 'an', 'the', 'and', 'but', 'if', 'or', 'because', 'as', 'until', 'while', 'of', 'at', 'by', 'for', 'with', 'about', 'against', 'between', 'into', 'through', 'during', 'before', 'after', 'above', 'below', 'to', 'from', 'up', 'down', 'in', 'out', 'on', 'off', 'over', 'under', 'again', 'further', 'then', 'once', 'here', 'there', 'when', 'where', 'why', 'how', 'all', 'any', 'both', 'each', 'few', 'more', 'most', 'other', 'some', 'such', 'no', 'nor', 'not', 'only', 'own', 'same', 'so', 'than', 'too', 'very', 's', 't', 'can', 'will', 'just', 'don', \"don't\", 'should', \"should've\", 'now', 'd', 'll', 'm', 'o', 're', 've', 'y', 'ain', 'aren', \"aren't\", 'couldn', \"couldn't\", 'didn', \"didn't\", 'doesn', \"doesn't\", 'hadn', \"hadn't\", 'hasn', \"hasn't\", 'haven', \"haven't\", 'isn', \"isn't\", 'ma', 'mightn', \"mightn't\", 'mustn', \"mustn't\", 'needn', \"needn't\", 'shan', \"shan't\", 'shouldn', \"shouldn't\", 'wasn', \"wasn't\", 'weren', \"weren't\", 'won', \"won't\", 'wouldn', \"wouldn't\"]}\n",
      "          \n",
      "--------------------------------\n",
      "Model score:\n",
      "            \n",
      "\tTrain: 84.8%\n",
      "            \n",
      "\tTest: 84.0%\n",
      "        \n",
      "--------------------------------\n",
      "Misclassification Rate:\n",
      "            \n",
      "\tTrain: 15.2%\n",
      "            \n",
      "\tTest: 16.0%\n",
      "--------------------------------\n",
      "\n",
      "        \n",
      "Classifier Report:\n",
      "              precision    recall  f1-score   support\n",
      "\n",
      "           1       0.78      0.99      0.87      4939\n",
      "           0       0.98      0.62      0.76      3700\n",
      "\n",
      "    accuracy                           0.83      8639\n",
      "   macro avg       0.88      0.81      0.82      8639\n",
      "weighted avg       0.86      0.83      0.82      8639\n",
      "\n",
      "Confidence interval is : 83.32 ± 0.01\n",
      "Spec: 0.6401535929786067\n",
      "Sens: 0.9893136046033704\n"
     ]
    },
    {
     "data": {
      "image/png": "[encoded data removed]",
      "text/plain": [
       "<Figure size 432x288 with 2 Axes>"
      ]
     },
     "metadata": {
      "needs_background": "light"
     },
     "output_type": "display_data"
    },
    {
     "data": {
      "image/png": "[encoded data removed]",
      "text/plain": [
       "<Figure size 432x288 with 1 Axes>"
      ]
     },
     "metadata": {
      "needs_background": "light"
     },
     "output_type": "display_data"
    }
   ],
   "source": [
    "run_stats(gs_rft_tvec, X_train, X_test, y_train, y_test)\n"
   ]
  },
  {
   "cell_type": "code",
   "execution_count": 37,
   "metadata": {},
   "outputs": [
    {
     "data": {
      "text/plain": [
       "array([0.        , 0.        , 0.        , ..., 0.00031816, 0.        ,\n",
       "       0.        ])"
      ]
     },
     "execution_count": 37,
     "metadata": {},
     "output_type": "execute_result"
    }
   ],
   "source": [
    "gs_rft_tvec.best_estimator_.named_steps[\"rft\"].feature_importances_\n"
   ]
  },
  {
   "attachments": {},
   "cell_type": "markdown",
   "metadata": {},
   "source": [
    "`A`da Boost\n"
   ]
  },
  {
   "attachments": {},
   "cell_type": "markdown",
   "metadata": {},
   "source": [
    "- Estimator: `DecisionTreeClassifier`, `LogisticRegression` and `RandomForest`\n"
   ]
  },
  {
   "cell_type": "code",
   "execution_count": 38,
   "metadata": {},
   "outputs": [],
   "source": [
    "def ada_model(X_train, y_train, vectorizer):\n",
    "    pipe = Pipeline(\n",
    "        [\n",
    "            (\"vec\", vectorizer()),\n",
    "            (\"ada\", AdaBoostClassifier()),\n",
    "        ]\n",
    "    )\n",
    "\n",
    "    pipe_params = {\n",
    "        \"vec__max_features\": [2000, 3000, 4000, 5000],\n",
    "        \"vec__min_df\": [2, 3],\n",
    "        \"vec__max_df\": [0.8, 0.9, 0.95],\n",
    "        \"vec__ngram_range\": [(1, 1), (2, 2)],\n",
    "        \"vec__stop_words\": [None, \"english\", stopwords.words(\"english\")],\n",
    "        \"ada__n_estimators\": [100, 150],\n",
    "        \"ada__learning_rate\": [0.9, 1],\n",
    "        \"ada__estimator\": [\n",
    "            LogisticRegression(),\n",
    "        ],\n",
    "    }\n",
    "\n",
    "    # Init grid\n",
    "    gs = global_grid_search_cv(pipe, pipe_params)\n",
    "\n",
    "    # Fit GridSearch to training data.\n",
    "    gs.fit(X_train, y_train)\n",
    "\n",
    "    return gs\n",
    "\n",
    "\n",
    "def run_ada_model(X_train, y_train, vectorizer):\n",
    "    return ada_model(X_train, y_train, vectorizer)\n"
   ]
  },
  {
   "cell_type": "code",
   "execution_count": 39,
   "metadata": {},
   "outputs": [],
   "source": [
    "gs_ada_tvec = ada_model(X_train, y_train, TfidfVectorizer)\n"
   ]
  },
  {
   "cell_type": "code",
   "execution_count": 40,
   "metadata": {},
   "outputs": [
    {
     "name": "stdout",
     "output_type": "stream",
     "text": [
      "\n",
      "          \n",
      "--------------------------------\n",
      "Model Best Score:\n",
      "\t0.8518344270732806\n",
      "          \n",
      "--------------------------------\n",
      "Model Best Params:\n",
      "\t{'ada__estimator': LogisticRegression(), 'ada__learning_rate': 1, 'ada__n_estimators': 150, 'vec__max_df': 0.8, 'vec__max_features': 2000, 'vec__min_df': 2, 'vec__ngram_range': (1, 1), 'vec__stop_words': ['i', 'me', 'my', 'myself', 'we', 'our', 'ours', 'ourselves', 'you', \"you're\", \"you've\", \"you'll\", \"you'd\", 'your', 'yours', 'yourself', 'yourselves', 'he', 'him', 'his', 'himself', 'she', \"she's\", 'her', 'hers', 'herself', 'it', \"it's\", 'its', 'itself', 'they', 'them', 'their', 'theirs', 'themselves', 'what', 'which', 'who', 'whom', 'this', 'that', \"that'll\", 'these', 'those', 'am', 'is', 'are', 'was', 'were', 'be', 'been', 'being', 'have', 'has', 'had', 'having', 'do', 'does', 'did', 'doing', 'a', 'an', 'the', 'and', 'but', 'if', 'or', 'because', 'as', 'until', 'while', 'of', 'at', 'by', 'for', 'with', 'about', 'against', 'between', 'into', 'through', 'during', 'before', 'after', 'above', 'below', 'to', 'from', 'up', 'down', 'in', 'out', 'on', 'off', 'over', 'under', 'again', 'further', 'then', 'once', 'here', 'there', 'when', 'where', 'why', 'how', 'all', 'any', 'both', 'each', 'few', 'more', 'most', 'other', 'some', 'such', 'no', 'nor', 'not', 'only', 'own', 'same', 'so', 'than', 'too', 'very', 's', 't', 'can', 'will', 'just', 'don', \"don't\", 'should', \"should've\", 'now', 'd', 'll', 'm', 'o', 're', 've', 'y', 'ain', 'aren', \"aren't\", 'couldn', \"couldn't\", 'didn', \"didn't\", 'doesn', \"doesn't\", 'hadn', \"hadn't\", 'hasn', \"hasn't\", 'haven', \"haven't\", 'isn', \"isn't\", 'ma', 'mightn', \"mightn't\", 'mustn', \"mustn't\", 'needn', \"needn't\", 'shan', \"shan't\", 'shouldn', \"shouldn't\", 'wasn', \"wasn't\", 'weren', \"weren't\", 'won', \"won't\", 'wouldn', \"wouldn't\"]}\n",
      "          \n",
      "--------------------------------\n",
      "Model score:\n",
      "            \n",
      "\tTrain: 85.2%\n",
      "            \n",
      "\tTest: 83.9%\n",
      "        \n",
      "--------------------------------\n",
      "Misclassification Rate:\n",
      "            \n",
      "\tTrain: 14.8%\n",
      "            \n",
      "\tTest: 16.1%\n",
      "--------------------------------\n",
      "\n",
      "        \n",
      "Classifier Report:\n",
      "              precision    recall  f1-score   support\n",
      "\n",
      "           1       0.79      1.00      0.89      4939\n",
      "           0       1.00      0.66      0.79      3700\n",
      "\n",
      "    accuracy                           0.85      8639\n",
      "   macro avg       0.90      0.83      0.84      8639\n",
      "weighted avg       0.88      0.85      0.84      8639\n",
      "\n",
      "Confidence interval is : 85.18 ± 0.01\n",
      "Spec: 0.628085573230938\n",
      "Sens: 0.9963008631319359\n"
     ]
    },
    {
     "data": {
      "image/png": "[encoded data removed]",
      "text/plain": [
       "<Figure size 432x288 with 2 Axes>"
      ]
     },
     "metadata": {
      "needs_background": "light"
     },
     "output_type": "display_data"
    },
    {
     "data": {
      "image/png": "[encoded data removed]",
      "text/plain": [
       "<Figure size 432x288 with 1 Axes>"
      ]
     },
     "metadata": {
      "needs_background": "light"
     },
     "output_type": "display_data"
    }
   ],
   "source": [
    "run_stats(gs_ada_tvec, X_train, X_test, y_train, y_test)\n"
   ]
  },
  {
   "cell_type": "code",
   "execution_count": 41,
   "metadata": {},
   "outputs": [],
   "source": [
    "# gs_rft_tvec.best_estimator_.named_steps[\"ada\"].feature_importances_\n"
   ]
  },
  {
   "attachments": {},
   "cell_type": "markdown",
   "metadata": {},
   "source": [
    "---\n",
    "\n",
    "`V`oting Classifier\n",
    "\n",
    "- Lets pick best performed models into `Voting`\n"
   ]
  },
  {
   "cell_type": "code",
   "execution_count": 42,
   "metadata": {},
   "outputs": [
    {
     "data": {
      "text/html": [
       "<style>#sk-container-id-1 {color: black;background-color: white;}#sk-container-id-1 pre{padding: 0;}#sk-container-id-1 div.sk-toggleable {background-color: white;}#sk-container-id-1 label.sk-toggleable__label {cursor: pointer;display: block;width: 100%;margin-bottom: 0;padding: 0.3em;box-sizing: border-box;text-align: center;}#sk-container-id-1 label.sk-toggleable__label-arrow:before {content: \"▸\";float: left;margin-right: 0.25em;color: #696969;}#sk-container-id-1 label.sk-toggleable__label-arrow:hover:before {color: black;}#sk-container-id-1 div.sk-estimator:hover label.sk-toggleable__label-arrow:before {color: black;}#sk-container-id-1 div.sk-toggleable__content {max-height: 0;max-width: 0;overflow: hidden;text-align: left;background-color: #f0f8ff;}#sk-container-id-1 div.sk-toggleable__content pre {margin: 0.2em;color: black;border-radius: 0.25em;background-color: #f0f8ff;}#sk-container-id-1 input.sk-toggleable__control:checked~div.sk-toggleable__content {max-height: 200px;max-width: 100%;overflow: auto;}#sk-container-id-1 input.sk-toggleable__control:checked~label.sk-toggleable__label-arrow:before {content: \"▾\";}#sk-container-id-1 div.sk-estimator input.sk-toggleable__control:checked~label.sk-toggleable__label {background-color: #d4ebff;}#sk-container-id-1 div.sk-label input.sk-toggleable__control:checked~label.sk-toggleable__label {background-color: #d4ebff;}#sk-container-id-1 input.sk-hidden--visually {border: 0;clip: rect(1px 1px 1px 1px);clip: rect(1px, 1px, 1px, 1px);height: 1px;margin: -1px;overflow: hidden;padding: 0;position: absolute;width: 1px;}#sk-container-id-1 div.sk-estimator {font-family: monospace;background-color: #f0f8ff;border: 1px dotted black;border-radius: 0.25em;box-sizing: border-box;margin-bottom: 0.5em;}#sk-container-id-1 div.sk-estimator:hover {background-color: #d4ebff;}#sk-container-id-1 div.sk-parallel-item::after {content: \"\";width: 100%;border-bottom: 1px solid gray;flex-grow: 1;}#sk-container-id-1 div.sk-label:hover label.sk-toggleable__label {background-color: #d4ebff;}#sk-container-id-1 div.sk-serial::before {content: \"\";position: absolute;border-left: 1px solid gray;box-sizing: border-box;top: 0;bottom: 0;left: 50%;z-index: 0;}#sk-container-id-1 div.sk-serial {display: flex;flex-direction: column;align-items: center;background-color: white;padding-right: 0.2em;padding-left: 0.2em;position: relative;}#sk-container-id-1 div.sk-item {position: relative;z-index: 1;}#sk-container-id-1 div.sk-parallel {display: flex;align-items: stretch;justify-content: center;background-color: white;position: relative;}#sk-container-id-1 div.sk-item::before, #sk-container-id-1 div.sk-parallel-item::before {content: \"\";position: absolute;border-left: 1px solid gray;box-sizing: border-box;top: 0;bottom: 0;left: 50%;z-index: -1;}#sk-container-id-1 div.sk-parallel-item {display: flex;flex-direction: column;z-index: 1;position: relative;background-color: white;}#sk-container-id-1 div.sk-parallel-item:first-child::after {align-self: flex-end;width: 50%;}#sk-container-id-1 div.sk-parallel-item:last-child::after {align-self: flex-start;width: 50%;}#sk-container-id-1 div.sk-parallel-item:only-child::after {width: 0;}#sk-container-id-1 div.sk-dashed-wrapped {border: 1px dashed gray;margin: 0 0.4em 0.5em 0.4em;box-sizing: border-box;padding-bottom: 0.4em;background-color: white;}#sk-container-id-1 div.sk-label label {font-family: monospace;font-weight: bold;display: inline-block;line-height: 1.2em;}#sk-container-id-1 div.sk-label-container {text-align: center;}#sk-container-id-1 div.sk-container {/* jupyter's `normalize.less` sets `[hidden] { display: none; }` but bootstrap.min.css set `[hidden] { display: none !important; }` so we also need the `!important` here to be able to override the default hidden behavior on the sphinx rendered scikit-learn.org. See: https://github.com/scikit-learn/scikit-learn/issues/21755 */display: inline-block !important;position: relative;}#sk-container-id-1 div.sk-text-repr-fallback {display: none;}</style><div id=\"sk-container-id-1\" class=\"sk-top-container\"><div class=\"sk-text-repr-fallback\"><pre>GridSearchCV(estimator=VotingClassifier(estimators=[(&#x27;nb&#x27;,\n",
       "                                                     Pipeline(steps=[(&#x27;vec&#x27;,\n",
       "                                                                      CountVectorizer(max_df=0.9,\n",
       "                                                                                      max_features=4000,\n",
       "                                                                                      min_df=3,\n",
       "                                                                                      stop_words=&#x27;english&#x27;)),\n",
       "                                                                     (&#x27;nb&#x27;,\n",
       "                                                                      MultinomialNB())])),\n",
       "                                                    (&#x27;lr&#x27;,\n",
       "                                                     Pipeline(steps=[(&#x27;vec&#x27;,\n",
       "                                                                      TfidfVectorizer(max_features=3000,\n",
       "                                                                                      min_df=4,\n",
       "                                                                                      stop_words=&#x27;english&#x27;)),\n",
       "                                                                     (&#x27;lr&#x27;,\n",
       "                                                                      LogisticRegression())])),\n",
       "                                                    (&#x27;rft&#x27;,\n",
       "                                                     Pipeline(steps=[(&#x27;vec&#x27;,\n",
       "                                                                      TfidfVecto...\n",
       "                                                                                                  &#x27;our&#x27;,\n",
       "                                                                                                  &#x27;ours&#x27;,\n",
       "                                                                                                  &#x27;ourselves&#x27;,\n",
       "                                                                                                  &#x27;you&#x27;,\n",
       "                                                                                                  &quot;you&#x27;re&quot;,\n",
       "                                                                                                  &quot;you&#x27;ve&quot;,\n",
       "                                                                                                  &quot;you&#x27;ll&quot;,\n",
       "                                                                                                  &quot;you&#x27;d&quot;,\n",
       "                                                                                                  &#x27;your&#x27;,\n",
       "                                                                                                  &#x27;yours&#x27;,\n",
       "                                                                                                  &#x27;yourself&#x27;,\n",
       "                                                                                                  &#x27;yourselves&#x27;,\n",
       "                                                                                                  &#x27;he&#x27;,\n",
       "                                                                                                  &#x27;him&#x27;,\n",
       "                                                                                                  &#x27;his&#x27;,\n",
       "                                                                                                  &#x27;himself&#x27;,\n",
       "                                                                                                  &#x27;she&#x27;,\n",
       "                                                                                                  &quot;she&#x27;s&quot;,\n",
       "                                                                                                  &#x27;her&#x27;,\n",
       "                                                                                                  &#x27;hers&#x27;,\n",
       "                                                                                                  &#x27;herself&#x27;,\n",
       "                                                                                                  &#x27;it&#x27;,\n",
       "                                                                                                  &quot;it&#x27;s&quot;,\n",
       "                                                                                                  &#x27;its&#x27;,\n",
       "                                                                                                  &#x27;itself&#x27;, ...])),\n",
       "                                                                     (&#x27;rft&#x27;,\n",
       "                                                                      RandomForestClassifier(ccp_alpha=0.01,\n",
       "                                                                                             max_depth=9,\n",
       "                                                                                             min_samples_leaf=5,\n",
       "                                                                                             min_samples_split=10))]))]),\n",
       "             n_jobs=-1, param_grid={&#x27;voting&#x27;: [&#x27;hard&#x27;, &#x27;soft&#x27;]})</pre><b>In a Jupyter environment, please rerun this cell to show the HTML representation or trust the notebook. <br />On GitHub, the HTML representation is unable to render, please try loading this page with nbviewer.org.</b></div><div class=\"sk-container\" hidden><div class=\"sk-item sk-dashed-wrapped\"><div class=\"sk-label-container\"><div class=\"sk-label sk-toggleable\"><input class=\"sk-toggleable__control sk-hidden--visually\" id=\"sk-estimator-id-1\" type=\"checkbox\" ><label for=\"sk-estimator-id-1\" class=\"sk-toggleable__label sk-toggleable__label-arrow\">GridSearchCV</label><div class=\"sk-toggleable__content\"><pre>GridSearchCV(estimator=VotingClassifier(estimators=[(&#x27;nb&#x27;,\n",
       "                                                     Pipeline(steps=[(&#x27;vec&#x27;,\n",
       "                                                                      CountVectorizer(max_df=0.9,\n",
       "                                                                                      max_features=4000,\n",
       "                                                                                      min_df=3,\n",
       "                                                                                      stop_words=&#x27;english&#x27;)),\n",
       "                                                                     (&#x27;nb&#x27;,\n",
       "                                                                      MultinomialNB())])),\n",
       "                                                    (&#x27;lr&#x27;,\n",
       "                                                     Pipeline(steps=[(&#x27;vec&#x27;,\n",
       "                                                                      TfidfVectorizer(max_features=3000,\n",
       "                                                                                      min_df=4,\n",
       "                                                                                      stop_words=&#x27;english&#x27;)),\n",
       "                                                                     (&#x27;lr&#x27;,\n",
       "                                                                      LogisticRegression())])),\n",
       "                                                    (&#x27;rft&#x27;,\n",
       "                                                     Pipeline(steps=[(&#x27;vec&#x27;,\n",
       "                                                                      TfidfVecto...\n",
       "                                                                                                  &#x27;our&#x27;,\n",
       "                                                                                                  &#x27;ours&#x27;,\n",
       "                                                                                                  &#x27;ourselves&#x27;,\n",
       "                                                                                                  &#x27;you&#x27;,\n",
       "                                                                                                  &quot;you&#x27;re&quot;,\n",
       "                                                                                                  &quot;you&#x27;ve&quot;,\n",
       "                                                                                                  &quot;you&#x27;ll&quot;,\n",
       "                                                                                                  &quot;you&#x27;d&quot;,\n",
       "                                                                                                  &#x27;your&#x27;,\n",
       "                                                                                                  &#x27;yours&#x27;,\n",
       "                                                                                                  &#x27;yourself&#x27;,\n",
       "                                                                                                  &#x27;yourselves&#x27;,\n",
       "                                                                                                  &#x27;he&#x27;,\n",
       "                                                                                                  &#x27;him&#x27;,\n",
       "                                                                                                  &#x27;his&#x27;,\n",
       "                                                                                                  &#x27;himself&#x27;,\n",
       "                                                                                                  &#x27;she&#x27;,\n",
       "                                                                                                  &quot;she&#x27;s&quot;,\n",
       "                                                                                                  &#x27;her&#x27;,\n",
       "                                                                                                  &#x27;hers&#x27;,\n",
       "                                                                                                  &#x27;herself&#x27;,\n",
       "                                                                                                  &#x27;it&#x27;,\n",
       "                                                                                                  &quot;it&#x27;s&quot;,\n",
       "                                                                                                  &#x27;its&#x27;,\n",
       "                                                                                                  &#x27;itself&#x27;, ...])),\n",
       "                                                                     (&#x27;rft&#x27;,\n",
       "                                                                      RandomForestClassifier(ccp_alpha=0.01,\n",
       "                                                                                             max_depth=9,\n",
       "                                                                                             min_samples_leaf=5,\n",
       "                                                                                             min_samples_split=10))]))]),\n",
       "             n_jobs=-1, param_grid={&#x27;voting&#x27;: [&#x27;hard&#x27;, &#x27;soft&#x27;]})</pre></div></div></div><div class=\"sk-parallel\"><div class=\"sk-parallel-item\"><div class=\"sk-item\"><div class=\"sk-label-container\"><div class=\"sk-label sk-toggleable\"><input class=\"sk-toggleable__control sk-hidden--visually\" id=\"sk-estimator-id-2\" type=\"checkbox\" ><label for=\"sk-estimator-id-2\" class=\"sk-toggleable__label sk-toggleable__label-arrow\">estimator: VotingClassifier</label><div class=\"sk-toggleable__content\"><pre>VotingClassifier(estimators=[(&#x27;nb&#x27;,\n",
       "                              Pipeline(steps=[(&#x27;vec&#x27;,\n",
       "                                               CountVectorizer(max_df=0.9,\n",
       "                                                               max_features=4000,\n",
       "                                                               min_df=3,\n",
       "                                                               stop_words=&#x27;english&#x27;)),\n",
       "                                              (&#x27;nb&#x27;, MultinomialNB())])),\n",
       "                             (&#x27;lr&#x27;,\n",
       "                              Pipeline(steps=[(&#x27;vec&#x27;,\n",
       "                                               TfidfVectorizer(max_features=3000,\n",
       "                                                               min_df=4,\n",
       "                                                               stop_words=&#x27;english&#x27;)),\n",
       "                                              (&#x27;lr&#x27;, LogisticRegression())])),\n",
       "                             (&#x27;rft&#x27;,\n",
       "                              Pipeline(steps=[(&#x27;vec&#x27;,\n",
       "                                               TfidfVectorizer(max_df=0.9,\n",
       "                                                               max_fe...\n",
       "                                                               min_df=2,\n",
       "                                                               stop_words=[&#x27;i&#x27;,\n",
       "                                                                           &#x27;me&#x27;,\n",
       "                                                                           &#x27;my&#x27;,\n",
       "                                                                           &#x27;myself&#x27;,\n",
       "                                                                           &#x27;we&#x27;,\n",
       "                                                                           &#x27;our&#x27;,\n",
       "                                                                           &#x27;ours&#x27;,\n",
       "                                                                           &#x27;ourselves&#x27;,\n",
       "                                                                           &#x27;you&#x27;,\n",
       "                                                                           &quot;you&#x27;re&quot;,\n",
       "                                                                           &quot;you&#x27;ve&quot;,\n",
       "                                                                           &quot;you&#x27;ll&quot;,\n",
       "                                                                           &quot;you&#x27;d&quot;,\n",
       "                                                                           &#x27;your&#x27;,\n",
       "                                                                           &#x27;yours&#x27;,\n",
       "                                                                           &#x27;yourself&#x27;,\n",
       "                                                                           &#x27;yourselves&#x27;,\n",
       "                                                                           &#x27;he&#x27;,\n",
       "                                                                           &#x27;him&#x27;,\n",
       "                                                                           &#x27;his&#x27;,\n",
       "                                                                           &#x27;himself&#x27;,\n",
       "                                                                           &#x27;she&#x27;,\n",
       "                                                                           &quot;she&#x27;s&quot;,\n",
       "                                                                           &#x27;her&#x27;,\n",
       "                                                                           &#x27;hers&#x27;,\n",
       "                                                                           &#x27;herself&#x27;,\n",
       "                                                                           &#x27;it&#x27;,\n",
       "                                                                           &quot;it&#x27;s&quot;,\n",
       "                                                                           &#x27;its&#x27;,\n",
       "                                                                           &#x27;itself&#x27;, ...])),\n",
       "                                              (&#x27;rft&#x27;,\n",
       "                                               RandomForestClassifier(ccp_alpha=0.01,\n",
       "                                                                      max_depth=9,\n",
       "                                                                      min_samples_leaf=5,\n",
       "                                                                      min_samples_split=10))]))])</pre></div></div></div><div class=\"sk-serial\"><div class=\"sk-item sk-dashed-wrapped\"><div class=\"sk-parallel\"><div class=\"sk-parallel-item\"><div class=\"sk-item\"><div class=\"sk-label-container\"><div class=\"sk-label sk-toggleable\"><label>nb</label></div></div><div class=\"sk-serial\"><div class=\"sk-item\"><div class=\"sk-serial\"><div class=\"sk-item\"><div class=\"sk-estimator sk-toggleable\"><input class=\"sk-toggleable__control sk-hidden--visually\" id=\"sk-estimator-id-3\" type=\"checkbox\" ><label for=\"sk-estimator-id-3\" class=\"sk-toggleable__label sk-toggleable__label-arrow\">CountVectorizer</label><div class=\"sk-toggleable__content\"><pre>CountVectorizer(max_df=0.9, max_features=4000, min_df=3, stop_words=&#x27;english&#x27;)</pre></div></div></div><div class=\"sk-item\"><div class=\"sk-estimator sk-toggleable\"><input class=\"sk-toggleable__control sk-hidden--visually\" id=\"sk-estimator-id-4\" type=\"checkbox\" ><label for=\"sk-estimator-id-4\" class=\"sk-toggleable__label sk-toggleable__label-arrow\">MultinomialNB</label><div class=\"sk-toggleable__content\"><pre>MultinomialNB()</pre></div></div></div></div></div></div></div></div><div class=\"sk-parallel-item\"><div class=\"sk-item\"><div class=\"sk-label-container\"><div class=\"sk-label sk-toggleable\"><label>lr</label></div></div><div class=\"sk-serial\"><div class=\"sk-item\"><div class=\"sk-serial\"><div class=\"sk-item\"><div class=\"sk-estimator sk-toggleable\"><input class=\"sk-toggleable__control sk-hidden--visually\" id=\"sk-estimator-id-5\" type=\"checkbox\" ><label for=\"sk-estimator-id-5\" class=\"sk-toggleable__label sk-toggleable__label-arrow\">TfidfVectorizer</label><div class=\"sk-toggleable__content\"><pre>TfidfVectorizer(max_features=3000, min_df=4, stop_words=&#x27;english&#x27;)</pre></div></div></div><div class=\"sk-item\"><div class=\"sk-estimator sk-toggleable\"><input class=\"sk-toggleable__control sk-hidden--visually\" id=\"sk-estimator-id-6\" type=\"checkbox\" ><label for=\"sk-estimator-id-6\" class=\"sk-toggleable__label sk-toggleable__label-arrow\">LogisticRegression</label><div class=\"sk-toggleable__content\"><pre>LogisticRegression()</pre></div></div></div></div></div></div></div></div><div class=\"sk-parallel-item\"><div class=\"sk-item\"><div class=\"sk-label-container\"><div class=\"sk-label sk-toggleable\"><label>rft</label></div></div><div class=\"sk-serial\"><div class=\"sk-item\"><div class=\"sk-serial\"><div class=\"sk-item\"><div class=\"sk-estimator sk-toggleable\"><input class=\"sk-toggleable__control sk-hidden--visually\" id=\"sk-estimator-id-7\" type=\"checkbox\" ><label for=\"sk-estimator-id-7\" class=\"sk-toggleable__label sk-toggleable__label-arrow\">TfidfVectorizer</label><div class=\"sk-toggleable__content\"><pre>TfidfVectorizer(max_df=0.9, max_features=2000, min_df=2,\n",
       "                stop_words=[&#x27;i&#x27;, &#x27;me&#x27;, &#x27;my&#x27;, &#x27;myself&#x27;, &#x27;we&#x27;, &#x27;our&#x27;, &#x27;ours&#x27;,\n",
       "                            &#x27;ourselves&#x27;, &#x27;you&#x27;, &quot;you&#x27;re&quot;, &quot;you&#x27;ve&quot;, &quot;you&#x27;ll&quot;,\n",
       "                            &quot;you&#x27;d&quot;, &#x27;your&#x27;, &#x27;yours&#x27;, &#x27;yourself&#x27;, &#x27;yourselves&#x27;,\n",
       "                            &#x27;he&#x27;, &#x27;him&#x27;, &#x27;his&#x27;, &#x27;himself&#x27;, &#x27;she&#x27;, &quot;she&#x27;s&quot;,\n",
       "                            &#x27;her&#x27;, &#x27;hers&#x27;, &#x27;herself&#x27;, &#x27;it&#x27;, &quot;it&#x27;s&quot;, &#x27;its&#x27;,\n",
       "                            &#x27;itself&#x27;, ...])</pre></div></div></div><div class=\"sk-item\"><div class=\"sk-estimator sk-toggleable\"><input class=\"sk-toggleable__control sk-hidden--visually\" id=\"sk-estimator-id-8\" type=\"checkbox\" ><label for=\"sk-estimator-id-8\" class=\"sk-toggleable__label sk-toggleable__label-arrow\">RandomForestClassifier</label><div class=\"sk-toggleable__content\"><pre>RandomForestClassifier(ccp_alpha=0.01, max_depth=9, min_samples_leaf=5,\n",
       "                       min_samples_split=10)</pre></div></div></div></div></div></div></div></div></div></div></div></div></div></div></div></div></div>"
      ],
      "text/plain": [
       "GridSearchCV(estimator=VotingClassifier(estimators=[('nb',\n",
       "                                                     Pipeline(steps=[('vec',\n",
       "                                                                      CountVectorizer(max_df=0.9,\n",
       "                                                                                      max_features=4000,\n",
       "                                                                                      min_df=3,\n",
       "                                                                                      stop_words='english')),\n",
       "                                                                     ('nb',\n",
       "                                                                      MultinomialNB())])),\n",
       "                                                    ('lr',\n",
       "                                                     Pipeline(steps=[('vec',\n",
       "                                                                      TfidfVectorizer(max_features=3000,\n",
       "                                                                                      min_df=4,\n",
       "                                                                                      stop_words='english')),\n",
       "                                                                     ('lr',\n",
       "                                                                      LogisticRegression())])),\n",
       "                                                    ('rft',\n",
       "                                                     Pipeline(steps=[('vec',\n",
       "                                                                      TfidfVecto...\n",
       "                                                                                                  'our',\n",
       "                                                                                                  'ours',\n",
       "                                                                                                  'ourselves',\n",
       "                                                                                                  'you',\n",
       "                                                                                                  \"you're\",\n",
       "                                                                                                  \"you've\",\n",
       "                                                                                                  \"you'll\",\n",
       "                                                                                                  \"you'd\",\n",
       "                                                                                                  'your',\n",
       "                                                                                                  'yours',\n",
       "                                                                                                  'yourself',\n",
       "                                                                                                  'yourselves',\n",
       "                                                                                                  'he',\n",
       "                                                                                                  'him',\n",
       "                                                                                                  'his',\n",
       "                                                                                                  'himself',\n",
       "                                                                                                  'she',\n",
       "                                                                                                  \"she's\",\n",
       "                                                                                                  'her',\n",
       "                                                                                                  'hers',\n",
       "                                                                                                  'herself',\n",
       "                                                                                                  'it',\n",
       "                                                                                                  \"it's\",\n",
       "                                                                                                  'its',\n",
       "                                                                                                  'itself', ...])),\n",
       "                                                                     ('rft',\n",
       "                                                                      RandomForestClassifier(ccp_alpha=0.01,\n",
       "                                                                                             max_depth=9,\n",
       "                                                                                             min_samples_leaf=5,\n",
       "                                                                                             min_samples_split=10))]))]),\n",
       "             n_jobs=-1, param_grid={'voting': ['hard', 'soft']})"
      ]
     },
     "execution_count": 42,
     "metadata": {},
     "output_type": "execute_result"
    }
   ],
   "source": [
    "vote = VotingClassifier(\n",
    "    [\n",
    "        # Naive 94/93\n",
    "        (\"nb\", gs_nb_tfvid.best_estimator_),\n",
    "        # LogReg 96/94\n",
    "        (\"lr\", gs_lr_tvec.best_estimator_),\n",
    "        # 85/85\n",
    "        (\"rft\", gs_rft_tvec.best_estimator_),\n",
    "    ]\n",
    ")\n",
    "\n",
    "vote_params = {\"voting\": [\"hard\", \"soft\"]}\n",
    "\n",
    "gs_voting = GridSearchCV(vote, param_grid=vote_params, n_jobs=-1)\n",
    "gs_voting.fit(X_train, y_train)\n"
   ]
  },
  {
   "cell_type": "code",
   "execution_count": 43,
   "metadata": {},
   "outputs": [
    {
     "name": "stdout",
     "output_type": "stream",
     "text": [
      "\n",
      "          \n",
      "--------------------------------\n",
      "Model Best Score:\n",
      "\t0.9538145521027687\n",
      "          \n",
      "--------------------------------\n",
      "Model Best Params:\n",
      "\t{'voting': 'soft'}\n",
      "          \n",
      "--------------------------------\n",
      "Model score:\n",
      "            \n",
      "\tTrain: 96.3%\n",
      "            \n",
      "\tTest: 94.4%\n",
      "        \n",
      "--------------------------------\n",
      "Misclassification Rate:\n",
      "            \n",
      "\tTrain: 3.7%\n",
      "            \n",
      "\tTest: 5.6%\n",
      "--------------------------------\n",
      "\n",
      "        \n",
      "Classifier Report:\n",
      "              precision    recall  f1-score   support\n",
      "\n",
      "           1       0.94      0.98      0.96      4939\n",
      "           0       0.97      0.92      0.94      3700\n",
      "\n",
      "    accuracy                           0.95      8639\n",
      "   macro avg       0.96      0.95      0.95      8639\n",
      "weighted avg       0.95      0.95      0.95      8639\n",
      "\n",
      "Confidence interval is : 95.34 ± 0.01\n",
      "Spec: 0.9012616566099836\n",
      "Sens: 0.9765721331689272\n"
     ]
    },
    {
     "data": {
      "image/png": "[encoded data removed]",
      "text/plain": [
       "<Figure size 432x288 with 2 Axes>"
      ]
     },
     "metadata": {
      "needs_background": "light"
     },
     "output_type": "display_data"
    },
    {
     "data": {
      "image/png": "[encoded data removed]",
      "text/plain": [
       "<Figure size 432x288 with 1 Axes>"
      ]
     },
     "metadata": {
      "needs_background": "light"
     },
     "output_type": "display_data"
    }
   ],
   "source": [
    "run_stats(gs_voting, X_train, X_test, y_train, y_test)\n"
   ]
  },
  {
   "attachments": {},
   "cell_type": "markdown",
   "metadata": {},
   "source": [
    "---\n",
    "\n",
    "`S`tacking\n"
   ]
  },
  {
   "cell_type": "code",
   "execution_count": 44,
   "metadata": {},
   "outputs": [
    {
     "data": {
      "text/html": [
       "<style>#sk-container-id-2 {color: black;background-color: white;}#sk-container-id-2 pre{padding: 0;}#sk-container-id-2 div.sk-toggleable {background-color: white;}#sk-container-id-2 label.sk-toggleable__label {cursor: pointer;display: block;width: 100%;margin-bottom: 0;padding: 0.3em;box-sizing: border-box;text-align: center;}#sk-container-id-2 label.sk-toggleable__label-arrow:before {content: \"▸\";float: left;margin-right: 0.25em;color: #696969;}#sk-container-id-2 label.sk-toggleable__label-arrow:hover:before {color: black;}#sk-container-id-2 div.sk-estimator:hover label.sk-toggleable__label-arrow:before {color: black;}#sk-container-id-2 div.sk-toggleable__content {max-height: 0;max-width: 0;overflow: hidden;text-align: left;background-color: #f0f8ff;}#sk-container-id-2 div.sk-toggleable__content pre {margin: 0.2em;color: black;border-radius: 0.25em;background-color: #f0f8ff;}#sk-container-id-2 input.sk-toggleable__control:checked~div.sk-toggleable__content {max-height: 200px;max-width: 100%;overflow: auto;}#sk-container-id-2 input.sk-toggleable__control:checked~label.sk-toggleable__label-arrow:before {content: \"▾\";}#sk-container-id-2 div.sk-estimator input.sk-toggleable__control:checked~label.sk-toggleable__label {background-color: #d4ebff;}#sk-container-id-2 div.sk-label input.sk-toggleable__control:checked~label.sk-toggleable__label {background-color: #d4ebff;}#sk-container-id-2 input.sk-hidden--visually {border: 0;clip: rect(1px 1px 1px 1px);clip: rect(1px, 1px, 1px, 1px);height: 1px;margin: -1px;overflow: hidden;padding: 0;position: absolute;width: 1px;}#sk-container-id-2 div.sk-estimator {font-family: monospace;background-color: #f0f8ff;border: 1px dotted black;border-radius: 0.25em;box-sizing: border-box;margin-bottom: 0.5em;}#sk-container-id-2 div.sk-estimator:hover {background-color: #d4ebff;}#sk-container-id-2 div.sk-parallel-item::after {content: \"\";width: 100%;border-bottom: 1px solid gray;flex-grow: 1;}#sk-container-id-2 div.sk-label:hover label.sk-toggleable__label {background-color: #d4ebff;}#sk-container-id-2 div.sk-serial::before {content: \"\";position: absolute;border-left: 1px solid gray;box-sizing: border-box;top: 0;bottom: 0;left: 50%;z-index: 0;}#sk-container-id-2 div.sk-serial {display: flex;flex-direction: column;align-items: center;background-color: white;padding-right: 0.2em;padding-left: 0.2em;position: relative;}#sk-container-id-2 div.sk-item {position: relative;z-index: 1;}#sk-container-id-2 div.sk-parallel {display: flex;align-items: stretch;justify-content: center;background-color: white;position: relative;}#sk-container-id-2 div.sk-item::before, #sk-container-id-2 div.sk-parallel-item::before {content: \"\";position: absolute;border-left: 1px solid gray;box-sizing: border-box;top: 0;bottom: 0;left: 50%;z-index: -1;}#sk-container-id-2 div.sk-parallel-item {display: flex;flex-direction: column;z-index: 1;position: relative;background-color: white;}#sk-container-id-2 div.sk-parallel-item:first-child::after {align-self: flex-end;width: 50%;}#sk-container-id-2 div.sk-parallel-item:last-child::after {align-self: flex-start;width: 50%;}#sk-container-id-2 div.sk-parallel-item:only-child::after {width: 0;}#sk-container-id-2 div.sk-dashed-wrapped {border: 1px dashed gray;margin: 0 0.4em 0.5em 0.4em;box-sizing: border-box;padding-bottom: 0.4em;background-color: white;}#sk-container-id-2 div.sk-label label {font-family: monospace;font-weight: bold;display: inline-block;line-height: 1.2em;}#sk-container-id-2 div.sk-label-container {text-align: center;}#sk-container-id-2 div.sk-container {/* jupyter's `normalize.less` sets `[hidden] { display: none; }` but bootstrap.min.css set `[hidden] { display: none !important; }` so we also need the `!important` here to be able to override the default hidden behavior on the sphinx rendered scikit-learn.org. See: https://github.com/scikit-learn/scikit-learn/issues/21755 */display: inline-block !important;position: relative;}#sk-container-id-2 div.sk-text-repr-fallback {display: none;}</style><div id=\"sk-container-id-2\" class=\"sk-top-container\"><div class=\"sk-text-repr-fallback\"><pre>StackingClassifier(estimators=[(&#x27;nb&#x27;,\n",
       "                                Pipeline(steps=[(&#x27;vec&#x27;,\n",
       "                                                 CountVectorizer(max_df=0.9,\n",
       "                                                                 max_features=4000,\n",
       "                                                                 min_df=3,\n",
       "                                                                 stop_words=&#x27;english&#x27;)),\n",
       "                                                (&#x27;nb&#x27;, MultinomialNB())])),\n",
       "                               (&#x27;lr&#x27;,\n",
       "                                Pipeline(steps=[(&#x27;vec&#x27;,\n",
       "                                                 TfidfVectorizer(max_features=3000,\n",
       "                                                                 min_df=4,\n",
       "                                                                 stop_words=&#x27;english&#x27;)),\n",
       "                                                (&#x27;lr&#x27;, LogisticRegression())])),\n",
       "                               (&#x27;bag&#x27;,\n",
       "                                Pipeline(steps=[(&#x27;vec&#x27;,\n",
       "                                                 TfidfVectorizer(max_df=0.9,\n",
       "                                                                 max_features=4000,\n",
       "                                                                 min_df=3,\n",
       "                                                                 stop_words=&#x27;english&#x27;)),\n",
       "                                                (&#x27;bag&#x27;,\n",
       "                                                 BaggingClassifier())]))],\n",
       "                   final_estimator=LogisticRegression())</pre><b>In a Jupyter environment, please rerun this cell to show the HTML representation or trust the notebook. <br />On GitHub, the HTML representation is unable to render, please try loading this page with nbviewer.org.</b></div><div class=\"sk-container\" hidden><div class=\"sk-item sk-dashed-wrapped\"><div class=\"sk-label-container\"><div class=\"sk-label sk-toggleable\"><input class=\"sk-toggleable__control sk-hidden--visually\" id=\"sk-estimator-id-9\" type=\"checkbox\" ><label for=\"sk-estimator-id-9\" class=\"sk-toggleable__label sk-toggleable__label-arrow\">StackingClassifier</label><div class=\"sk-toggleable__content\"><pre>StackingClassifier(estimators=[(&#x27;nb&#x27;,\n",
       "                                Pipeline(steps=[(&#x27;vec&#x27;,\n",
       "                                                 CountVectorizer(max_df=0.9,\n",
       "                                                                 max_features=4000,\n",
       "                                                                 min_df=3,\n",
       "                                                                 stop_words=&#x27;english&#x27;)),\n",
       "                                                (&#x27;nb&#x27;, MultinomialNB())])),\n",
       "                               (&#x27;lr&#x27;,\n",
       "                                Pipeline(steps=[(&#x27;vec&#x27;,\n",
       "                                                 TfidfVectorizer(max_features=3000,\n",
       "                                                                 min_df=4,\n",
       "                                                                 stop_words=&#x27;english&#x27;)),\n",
       "                                                (&#x27;lr&#x27;, LogisticRegression())])),\n",
       "                               (&#x27;bag&#x27;,\n",
       "                                Pipeline(steps=[(&#x27;vec&#x27;,\n",
       "                                                 TfidfVectorizer(max_df=0.9,\n",
       "                                                                 max_features=4000,\n",
       "                                                                 min_df=3,\n",
       "                                                                 stop_words=&#x27;english&#x27;)),\n",
       "                                                (&#x27;bag&#x27;,\n",
       "                                                 BaggingClassifier())]))],\n",
       "                   final_estimator=LogisticRegression())</pre></div></div></div><div class=\"sk-serial\"><div class=\"sk-item\"><div class=\"sk-parallel\"><div class=\"sk-parallel-item\"><div class=\"sk-item\"><div class=\"sk-label-container\"><div class=\"sk-label sk-toggleable\"><label>nb</label></div></div><div class=\"sk-serial\"><div class=\"sk-item\"><div class=\"sk-serial\"><div class=\"sk-item\"><div class=\"sk-estimator sk-toggleable\"><input class=\"sk-toggleable__control sk-hidden--visually\" id=\"sk-estimator-id-10\" type=\"checkbox\" ><label for=\"sk-estimator-id-10\" class=\"sk-toggleable__label sk-toggleable__label-arrow\">CountVectorizer</label><div class=\"sk-toggleable__content\"><pre>CountVectorizer(max_df=0.9, max_features=4000, min_df=3, stop_words=&#x27;english&#x27;)</pre></div></div></div><div class=\"sk-item\"><div class=\"sk-estimator sk-toggleable\"><input class=\"sk-toggleable__control sk-hidden--visually\" id=\"sk-estimator-id-11\" type=\"checkbox\" ><label for=\"sk-estimator-id-11\" class=\"sk-toggleable__label sk-toggleable__label-arrow\">MultinomialNB</label><div class=\"sk-toggleable__content\"><pre>MultinomialNB()</pre></div></div></div></div></div></div></div></div><div class=\"sk-parallel-item\"><div class=\"sk-item\"><div class=\"sk-label-container\"><div class=\"sk-label sk-toggleable\"><label>lr</label></div></div><div class=\"sk-serial\"><div class=\"sk-item\"><div class=\"sk-serial\"><div class=\"sk-item\"><div class=\"sk-estimator sk-toggleable\"><input class=\"sk-toggleable__control sk-hidden--visually\" id=\"sk-estimator-id-12\" type=\"checkbox\" ><label for=\"sk-estimator-id-12\" class=\"sk-toggleable__label sk-toggleable__label-arrow\">TfidfVectorizer</label><div class=\"sk-toggleable__content\"><pre>TfidfVectorizer(max_features=3000, min_df=4, stop_words=&#x27;english&#x27;)</pre></div></div></div><div class=\"sk-item\"><div class=\"sk-estimator sk-toggleable\"><input class=\"sk-toggleable__control sk-hidden--visually\" id=\"sk-estimator-id-13\" type=\"checkbox\" ><label for=\"sk-estimator-id-13\" class=\"sk-toggleable__label sk-toggleable__label-arrow\">LogisticRegression</label><div class=\"sk-toggleable__content\"><pre>LogisticRegression()</pre></div></div></div></div></div></div></div></div><div class=\"sk-parallel-item\"><div class=\"sk-item\"><div class=\"sk-label-container\"><div class=\"sk-label sk-toggleable\"><label>bag</label></div></div><div class=\"sk-serial\"><div class=\"sk-item\"><div class=\"sk-serial\"><div class=\"sk-item\"><div class=\"sk-estimator sk-toggleable\"><input class=\"sk-toggleable__control sk-hidden--visually\" id=\"sk-estimator-id-14\" type=\"checkbox\" ><label for=\"sk-estimator-id-14\" class=\"sk-toggleable__label sk-toggleable__label-arrow\">TfidfVectorizer</label><div class=\"sk-toggleable__content\"><pre>TfidfVectorizer(max_df=0.9, max_features=4000, min_df=3, stop_words=&#x27;english&#x27;)</pre></div></div></div><div class=\"sk-item\"><div class=\"sk-estimator sk-toggleable\"><input class=\"sk-toggleable__control sk-hidden--visually\" id=\"sk-estimator-id-15\" type=\"checkbox\" ><label for=\"sk-estimator-id-15\" class=\"sk-toggleable__label sk-toggleable__label-arrow\">BaggingClassifier</label><div class=\"sk-toggleable__content\"><pre>BaggingClassifier()</pre></div></div></div></div></div></div></div></div></div></div><div class=\"sk-item\"><div class=\"sk-parallel\"><div class=\"sk-parallel-item\"><div class=\"sk-item\"><div class=\"sk-label-container\"><div class=\"sk-label sk-toggleable\"><label>final_estimator</label></div></div><div class=\"sk-serial\"><div class=\"sk-item\"><div class=\"sk-estimator sk-toggleable\"><input class=\"sk-toggleable__control sk-hidden--visually\" id=\"sk-estimator-id-16\" type=\"checkbox\" ><label for=\"sk-estimator-id-16\" class=\"sk-toggleable__label sk-toggleable__label-arrow\">LogisticRegression</label><div class=\"sk-toggleable__content\"><pre>LogisticRegression()</pre></div></div></div></div></div></div></div></div></div></div></div></div>"
      ],
      "text/plain": [
       "StackingClassifier(estimators=[('nb',\n",
       "                                Pipeline(steps=[('vec',\n",
       "                                                 CountVectorizer(max_df=0.9,\n",
       "                                                                 max_features=4000,\n",
       "                                                                 min_df=3,\n",
       "                                                                 stop_words='english')),\n",
       "                                                ('nb', MultinomialNB())])),\n",
       "                               ('lr',\n",
       "                                Pipeline(steps=[('vec',\n",
       "                                                 TfidfVectorizer(max_features=3000,\n",
       "                                                                 min_df=4,\n",
       "                                                                 stop_words='english')),\n",
       "                                                ('lr', LogisticRegression())])),\n",
       "                               ('bag',\n",
       "                                Pipeline(steps=[('vec',\n",
       "                                                 TfidfVectorizer(max_df=0.9,\n",
       "                                                                 max_features=4000,\n",
       "                                                                 min_df=3,\n",
       "                                                                 stop_words='english')),\n",
       "                                                ('bag',\n",
       "                                                 BaggingClassifier())]))],\n",
       "                   final_estimator=LogisticRegression())"
      ]
     },
     "execution_count": 44,
     "metadata": {},
     "output_type": "execute_result"
    }
   ],
   "source": [
    "# Create the model\n",
    "level_1_estimators = [\n",
    "    # Naive 94/93\n",
    "    (\"nb\", gs_nb_tfvid.best_estimator_),\n",
    "    # LogReg 96/94\n",
    "    (\"lr\", gs_lr_tvec.best_estimator_),\n",
    "    # 85/85\n",
    "    (\"bag\", gs_bag_tvec.best_estimator_),\n",
    "]\n",
    "\n",
    "stacked_model = StackingClassifier(\n",
    "    estimators=level_1_estimators, final_estimator=LogisticRegression()\n",
    ")\n",
    "\n",
    "# Fit\n",
    "stacked_model.fit(X_train, y_train)\n"
   ]
  },
  {
   "cell_type": "code",
   "execution_count": 45,
   "metadata": {},
   "outputs": [
    {
     "data": {
      "text/plain": [
       "(0.9771964347725431, 0.950187969924812)"
      ]
     },
     "execution_count": 45,
     "metadata": {},
     "output_type": "execute_result"
    }
   ],
   "source": [
    "stacked_model.score(X_train, y_train), stacked_model.score(X_test, y_test)\n"
   ]
  },
  {
   "attachments": {},
   "cell_type": "markdown",
   "metadata": {},
   "source": [
    "**`Voting` and `Stacking` performed almost exact good performance**\n"
   ]
  },
  {
   "attachments": {},
   "cell_type": "markdown",
   "metadata": {},
   "source": [
    "---\n"
   ]
  },
  {
   "attachments": {},
   "cell_type": "markdown",
   "metadata": {},
   "source": [
    "`L`et's now add more features into model\n"
   ]
  },
  {
   "cell_type": "code",
   "execution_count": 46,
   "metadata": {},
   "outputs": [],
   "source": [
    "tX = df[\n",
    "    [\n",
    "        \"subreddit_text\",\n",
    "        \"subreddit_text_word_count\",\n",
    "        \"subreddit_text_length\",\n",
    "    ]\n",
    "]\n",
    "\n",
    "ty = df[\"subreddit\"]\n",
    "\n",
    "tX_train, tX_test, ty_train, ty_test = train_test_split(tX, ty, stratify=ty)\n"
   ]
  },
  {
   "cell_type": "code",
   "execution_count": 47,
   "metadata": {},
   "outputs": [
    {
     "data": {
      "text/plain": [
       "1    0.571709\n",
       "0    0.428291\n",
       "Name: subreddit, dtype: float64"
      ]
     },
     "execution_count": 47,
     "metadata": {},
     "output_type": "execute_result"
    }
   ],
   "source": [
    "ty_train.value_counts(normalize=True)\n"
   ]
  },
  {
   "cell_type": "code",
   "execution_count": 52,
   "metadata": {},
   "outputs": [
    {
     "data": {
      "text/html": [
       "<style>#sk-container-id-4 {color: black;background-color: white;}#sk-container-id-4 pre{padding: 0;}#sk-container-id-4 div.sk-toggleable {background-color: white;}#sk-container-id-4 label.sk-toggleable__label {cursor: pointer;display: block;width: 100%;margin-bottom: 0;padding: 0.3em;box-sizing: border-box;text-align: center;}#sk-container-id-4 label.sk-toggleable__label-arrow:before {content: \"▸\";float: left;margin-right: 0.25em;color: #696969;}#sk-container-id-4 label.sk-toggleable__label-arrow:hover:before {color: black;}#sk-container-id-4 div.sk-estimator:hover label.sk-toggleable__label-arrow:before {color: black;}#sk-container-id-4 div.sk-toggleable__content {max-height: 0;max-width: 0;overflow: hidden;text-align: left;background-color: #f0f8ff;}#sk-container-id-4 div.sk-toggleable__content pre {margin: 0.2em;color: black;border-radius: 0.25em;background-color: #f0f8ff;}#sk-container-id-4 input.sk-toggleable__control:checked~div.sk-toggleable__content {max-height: 200px;max-width: 100%;overflow: auto;}#sk-container-id-4 input.sk-toggleable__control:checked~label.sk-toggleable__label-arrow:before {content: \"▾\";}#sk-container-id-4 div.sk-estimator input.sk-toggleable__control:checked~label.sk-toggleable__label {background-color: #d4ebff;}#sk-container-id-4 div.sk-label input.sk-toggleable__control:checked~label.sk-toggleable__label {background-color: #d4ebff;}#sk-container-id-4 input.sk-hidden--visually {border: 0;clip: rect(1px 1px 1px 1px);clip: rect(1px, 1px, 1px, 1px);height: 1px;margin: -1px;overflow: hidden;padding: 0;position: absolute;width: 1px;}#sk-container-id-4 div.sk-estimator {font-family: monospace;background-color: #f0f8ff;border: 1px dotted black;border-radius: 0.25em;box-sizing: border-box;margin-bottom: 0.5em;}#sk-container-id-4 div.sk-estimator:hover {background-color: #d4ebff;}#sk-container-id-4 div.sk-parallel-item::after {content: \"\";width: 100%;border-bottom: 1px solid gray;flex-grow: 1;}#sk-container-id-4 div.sk-label:hover label.sk-toggleable__label {background-color: #d4ebff;}#sk-container-id-4 div.sk-serial::before {content: \"\";position: absolute;border-left: 1px solid gray;box-sizing: border-box;top: 0;bottom: 0;left: 50%;z-index: 0;}#sk-container-id-4 div.sk-serial {display: flex;flex-direction: column;align-items: center;background-color: white;padding-right: 0.2em;padding-left: 0.2em;position: relative;}#sk-container-id-4 div.sk-item {position: relative;z-index: 1;}#sk-container-id-4 div.sk-parallel {display: flex;align-items: stretch;justify-content: center;background-color: white;position: relative;}#sk-container-id-4 div.sk-item::before, #sk-container-id-4 div.sk-parallel-item::before {content: \"\";position: absolute;border-left: 1px solid gray;box-sizing: border-box;top: 0;bottom: 0;left: 50%;z-index: -1;}#sk-container-id-4 div.sk-parallel-item {display: flex;flex-direction: column;z-index: 1;position: relative;background-color: white;}#sk-container-id-4 div.sk-parallel-item:first-child::after {align-self: flex-end;width: 50%;}#sk-container-id-4 div.sk-parallel-item:last-child::after {align-self: flex-start;width: 50%;}#sk-container-id-4 div.sk-parallel-item:only-child::after {width: 0;}#sk-container-id-4 div.sk-dashed-wrapped {border: 1px dashed gray;margin: 0 0.4em 0.5em 0.4em;box-sizing: border-box;padding-bottom: 0.4em;background-color: white;}#sk-container-id-4 div.sk-label label {font-family: monospace;font-weight: bold;display: inline-block;line-height: 1.2em;}#sk-container-id-4 div.sk-label-container {text-align: center;}#sk-container-id-4 div.sk-container {/* jupyter's `normalize.less` sets `[hidden] { display: none; }` but bootstrap.min.css set `[hidden] { display: none !important; }` so we also need the `!important` here to be able to override the default hidden behavior on the sphinx rendered scikit-learn.org. See: https://github.com/scikit-learn/scikit-learn/issues/21755 */display: inline-block !important;position: relative;}#sk-container-id-4 div.sk-text-repr-fallback {display: none;}</style><div id=\"sk-container-id-4\" class=\"sk-top-container\"><div class=\"sk-text-repr-fallback\"><pre>GridSearchCV(estimator=VotingClassifier(estimators=[(&#x27;pipe_1&#x27;,\n",
       "                                                     Pipeline(steps=[(&#x27;ct&#x27;,\n",
       "                                                                      ColumnTransformer(remainder=&#x27;passthrough&#x27;,\n",
       "                                                                                        transformers=[(&#x27;tfidfvectorizer&#x27;,\n",
       "                                                                                                       TfidfVectorizer(max_df=0.9,\n",
       "                                                                                                                       max_features=5000,\n",
       "                                                                                                                       stop_words=&#x27;english&#x27;),\n",
       "                                                                                                       &#x27;subreddit_text&#x27;)])),\n",
       "                                                                     (&#x27;rft&#x27;,\n",
       "                                                                      RandomForestClassifier())]))]),\n",
       "             n_jobs=-1, param_grid={&#x27;voting&#x27;: [&#x27;hard&#x27;, &#x27;soft&#x27;]})</pre><b>In a Jupyter environment, please rerun this cell to show the HTML representation or trust the notebook. <br />On GitHub, the HTML representation is unable to render, please try loading this page with nbviewer.org.</b></div><div class=\"sk-container\" hidden><div class=\"sk-item sk-dashed-wrapped\"><div class=\"sk-label-container\"><div class=\"sk-label sk-toggleable\"><input class=\"sk-toggleable__control sk-hidden--visually\" id=\"sk-estimator-id-25\" type=\"checkbox\" ><label for=\"sk-estimator-id-25\" class=\"sk-toggleable__label sk-toggleable__label-arrow\">GridSearchCV</label><div class=\"sk-toggleable__content\"><pre>GridSearchCV(estimator=VotingClassifier(estimators=[(&#x27;pipe_1&#x27;,\n",
       "                                                     Pipeline(steps=[(&#x27;ct&#x27;,\n",
       "                                                                      ColumnTransformer(remainder=&#x27;passthrough&#x27;,\n",
       "                                                                                        transformers=[(&#x27;tfidfvectorizer&#x27;,\n",
       "                                                                                                       TfidfVectorizer(max_df=0.9,\n",
       "                                                                                                                       max_features=5000,\n",
       "                                                                                                                       stop_words=&#x27;english&#x27;),\n",
       "                                                                                                       &#x27;subreddit_text&#x27;)])),\n",
       "                                                                     (&#x27;rft&#x27;,\n",
       "                                                                      RandomForestClassifier())]))]),\n",
       "             n_jobs=-1, param_grid={&#x27;voting&#x27;: [&#x27;hard&#x27;, &#x27;soft&#x27;]})</pre></div></div></div><div class=\"sk-parallel\"><div class=\"sk-parallel-item\"><div class=\"sk-item\"><div class=\"sk-label-container\"><div class=\"sk-label sk-toggleable\"><input class=\"sk-toggleable__control sk-hidden--visually\" id=\"sk-estimator-id-26\" type=\"checkbox\" ><label for=\"sk-estimator-id-26\" class=\"sk-toggleable__label sk-toggleable__label-arrow\">estimator: VotingClassifier</label><div class=\"sk-toggleable__content\"><pre>VotingClassifier(estimators=[(&#x27;pipe_1&#x27;,\n",
       "                              Pipeline(steps=[(&#x27;ct&#x27;,\n",
       "                                               ColumnTransformer(remainder=&#x27;passthrough&#x27;,\n",
       "                                                                 transformers=[(&#x27;tfidfvectorizer&#x27;,\n",
       "                                                                                TfidfVectorizer(max_df=0.9,\n",
       "                                                                                                max_features=5000,\n",
       "                                                                                                stop_words=&#x27;english&#x27;),\n",
       "                                                                                &#x27;subreddit_text&#x27;)])),\n",
       "                                              (&#x27;rft&#x27;,\n",
       "                                               RandomForestClassifier())]))])</pre></div></div></div><div class=\"sk-serial\"><div class=\"sk-item sk-dashed-wrapped\"><div class=\"sk-parallel\"><div class=\"sk-parallel-item\"><div class=\"sk-item\"><div class=\"sk-label-container\"><div class=\"sk-label sk-toggleable\"><label>pipe_1</label></div></div><div class=\"sk-serial\"><div class=\"sk-item\"><div class=\"sk-serial\"><div class=\"sk-item sk-dashed-wrapped\"><div class=\"sk-label-container\"><div class=\"sk-label sk-toggleable\"><input class=\"sk-toggleable__control sk-hidden--visually\" id=\"sk-estimator-id-27\" type=\"checkbox\" ><label for=\"sk-estimator-id-27\" class=\"sk-toggleable__label sk-toggleable__label-arrow\">ct: ColumnTransformer</label><div class=\"sk-toggleable__content\"><pre>ColumnTransformer(remainder=&#x27;passthrough&#x27;,\n",
       "                  transformers=[(&#x27;tfidfvectorizer&#x27;,\n",
       "                                 TfidfVectorizer(max_df=0.9, max_features=5000,\n",
       "                                                 stop_words=&#x27;english&#x27;),\n",
       "                                 &#x27;subreddit_text&#x27;)])</pre></div></div></div><div class=\"sk-parallel\"><div class=\"sk-parallel-item\"><div class=\"sk-item\"><div class=\"sk-label-container\"><div class=\"sk-label sk-toggleable\"><input class=\"sk-toggleable__control sk-hidden--visually\" id=\"sk-estimator-id-28\" type=\"checkbox\" ><label for=\"sk-estimator-id-28\" class=\"sk-toggleable__label sk-toggleable__label-arrow\">tfidfvectorizer</label><div class=\"sk-toggleable__content\"><pre>subreddit_text</pre></div></div></div><div class=\"sk-serial\"><div class=\"sk-item\"><div class=\"sk-estimator sk-toggleable\"><input class=\"sk-toggleable__control sk-hidden--visually\" id=\"sk-estimator-id-29\" type=\"checkbox\" ><label for=\"sk-estimator-id-29\" class=\"sk-toggleable__label sk-toggleable__label-arrow\">TfidfVectorizer</label><div class=\"sk-toggleable__content\"><pre>TfidfVectorizer(max_df=0.9, max_features=5000, stop_words=&#x27;english&#x27;)</pre></div></div></div></div></div></div><div class=\"sk-parallel-item\"><div class=\"sk-item\"><div class=\"sk-label-container\"><div class=\"sk-label sk-toggleable\"><input class=\"sk-toggleable__control sk-hidden--visually\" id=\"sk-estimator-id-30\" type=\"checkbox\" ><label for=\"sk-estimator-id-30\" class=\"sk-toggleable__label sk-toggleable__label-arrow\">remainder</label><div class=\"sk-toggleable__content\"><pre></pre></div></div></div><div class=\"sk-serial\"><div class=\"sk-item\"><div class=\"sk-estimator sk-toggleable\"><input class=\"sk-toggleable__control sk-hidden--visually\" id=\"sk-estimator-id-31\" type=\"checkbox\" ><label for=\"sk-estimator-id-31\" class=\"sk-toggleable__label sk-toggleable__label-arrow\">passthrough</label><div class=\"sk-toggleable__content\"><pre>passthrough</pre></div></div></div></div></div></div></div></div><div class=\"sk-item\"><div class=\"sk-estimator sk-toggleable\"><input class=\"sk-toggleable__control sk-hidden--visually\" id=\"sk-estimator-id-32\" type=\"checkbox\" ><label for=\"sk-estimator-id-32\" class=\"sk-toggleable__label sk-toggleable__label-arrow\">RandomForestClassifier</label><div class=\"sk-toggleable__content\"><pre>RandomForestClassifier()</pre></div></div></div></div></div></div></div></div></div></div></div></div></div></div></div></div></div>"
      ],
      "text/plain": [
       "GridSearchCV(estimator=VotingClassifier(estimators=[('pipe_1',\n",
       "                                                     Pipeline(steps=[('ct',\n",
       "                                                                      ColumnTransformer(remainder='passthrough',\n",
       "                                                                                        transformers=[('tfidfvectorizer',\n",
       "                                                                                                       TfidfVectorizer(max_df=0.9,\n",
       "                                                                                                                       max_features=5000,\n",
       "                                                                                                                       stop_words='english'),\n",
       "                                                                                                       'subreddit_text')])),\n",
       "                                                                     ('rft',\n",
       "                                                                      RandomForestClassifier())]))]),\n",
       "             n_jobs=-1, param_grid={'voting': ['hard', 'soft']})"
      ]
     },
     "execution_count": 52,
     "metadata": {},
     "output_type": "execute_result"
    }
   ],
   "source": [
    "vote = VotingClassifier(\n",
    "    [\n",
    "        (\n",
    "            \"pipe_1\",\n",
    "            Pipeline(\n",
    "                [\n",
    "                    (\n",
    "                        \"ct\",\n",
    "                        make_column_transformer(\n",
    "                            (\n",
    "                                TfidfVectorizer(\n",
    "                                    max_features=5000,\n",
    "                                    max_df=0.9,\n",
    "                                    ngram_range=(1, 1),\n",
    "                                    stop_words=\"english\",\n",
    "                                ),\n",
    "                                \"subreddit_text\",\n",
    "                            ),\n",
    "                            remainder=\"passthrough\",\n",
    "                        ),\n",
    "                    ),\n",
    "                    # (\"nb\", MultinomialNB()),\n",
    "                    # (\"lr\", LogisticRegression()),\n",
    "                    (\"rft\", RandomForestClassifier()),\n",
    "                ]\n",
    "            ),\n",
    "        ),\n",
    "    ]\n",
    ")\n",
    "\n",
    "vote_params = {\"voting\": [\"hard\", \"soft\"]}\n",
    "\n",
    "tgs_voting = GridSearchCV(vote, param_grid=vote_params, n_jobs=-1)\n",
    "tgs_voting.fit(tX_train, ty_train)\n"
   ]
  },
  {
   "cell_type": "code",
   "execution_count": 55,
   "metadata": {},
   "outputs": [
    {
     "data": {
      "text/plain": [
       "(0.9980353634577603, 0.9491315136476427)"
      ]
     },
     "execution_count": 55,
     "metadata": {},
     "output_type": "execute_result"
    }
   ],
   "source": [
    "tgs_voting.score(tX_train, ty_train), tgs_voting.score(tX_test, ty_test)"
   ]
  },
  {
   "cell_type": "code",
   "execution_count": 54,
   "metadata": {},
   "outputs": [
    {
     "data": {
      "text/plain": [
       "0.9397173922918854"
      ]
     },
     "execution_count": 54,
     "metadata": {},
     "output_type": "execute_result"
    }
   ],
   "source": [
    "cross_val_score(tgs_voting.best_estimator_, tX_train, ty_train, cv=5).mean()\n"
   ]
  },
  {
   "attachments": {},
   "cell_type": "markdown",
   "metadata": {},
   "source": [
    "> Adding additional features `overfits` our model\n"
   ]
  },
  {
   "attachments": {},
   "cell_type": "markdown",
   "metadata": {},
   "source": [
    "---\n",
    "\n",
    "`A`dd sentiment to dataframe\n"
   ]
  },
  {
   "cell_type": "code",
   "execution_count": 56,
   "metadata": {},
   "outputs": [
    {
     "data": {
      "text/html": [
       "<div>\n",
       "<style scoped>\n",
       "    .dataframe tbody tr th:only-of-type {\n",
       "        vertical-align: middle;\n",
       "    }\n",
       "\n",
       "    .dataframe tbody tr th {\n",
       "        vertical-align: top;\n",
       "    }\n",
       "\n",
       "    .dataframe thead th {\n",
       "        text-align: right;\n",
       "    }\n",
       "</style>\n",
       "<table border=\"1\" class=\"dataframe\">\n",
       "  <thead>\n",
       "    <tr style=\"text-align: right;\">\n",
       "      <th></th>\n",
       "      <th>selftext</th>\n",
       "      <th>title</th>\n",
       "      <th>score</th>\n",
       "      <th>domain</th>\n",
       "      <th>id</th>\n",
       "      <th>author</th>\n",
       "      <th>num_comments</th>\n",
       "      <th>url</th>\n",
       "      <th>created_utc</th>\n",
       "      <th>subreddit</th>\n",
       "      <th>...</th>\n",
       "      <th>selftext_emoji_count</th>\n",
       "      <th>title_emoji_count</th>\n",
       "      <th>subreddit_text</th>\n",
       "      <th>subreddit_text_length</th>\n",
       "      <th>subreddit_text_word_count</th>\n",
       "      <th>subreddit_text_emoji_count</th>\n",
       "      <th>subreddit_text_sent_neg</th>\n",
       "      <th>subreddit_text_sent_neu</th>\n",
       "      <th>subreddit_text_sent_pos</th>\n",
       "      <th>subreddit_text_sent_compound</th>\n",
       "    </tr>\n",
       "  </thead>\n",
       "  <tbody>\n",
       "    <tr>\n",
       "      <th>0</th>\n",
       "      <td>If I wanted to play a virtual board game remotely with someone who didn't have a great PC but could still Zoom/Skype, what would you recommend? Any direction you can provide would be massively appreciated.&amp;amp;#x200B;Here's the scenario I'd like to discover a solution for:* A roleplay game I can essentially DM on one side - She says \"Let's move here\" and I can adjust the tokens on both turns. ...</td>\n",
       "      <td>Virtual board games you can host over Zoom?</td>\n",
       "      <td>1</td>\n",
       "      <td>self.boardgames</td>\n",
       "      <td>105yauz</td>\n",
       "      <td>TylerDeLarm</td>\n",
       "      <td>0</td>\n",
       "      <td>https://www.reddit.com/r/boardgames/comments/105yauz/virtual_board_games_you_can_host_over_zoom/</td>\n",
       "      <td>1673122098</td>\n",
       "      <td>0</td>\n",
       "      <td>...</td>\n",
       "      <td>0</td>\n",
       "      <td>0</td>\n",
       "      <td>if  i  wanted  to  play  a  virtual  board  game  remotely  with  someone  who  didnt  have  a  great  pc  but  could  still  zoom  skype   what  would  you  remend   any  direction  you  can  provide  would  be  massively  appreciated      heres  the  scenario  id  like  to  discover  a  solution  for    a  roleplay  game  i  can  essentially  dm  on  one  side    she  says   lets  move  here...</td>\n",
       "      <td>684</td>\n",
       "      <td>120</td>\n",
       "      <td>0</td>\n",
       "      <td>0.016</td>\n",
       "      <td>0.758</td>\n",
       "      <td>0.226</td>\n",
       "      <td>0.9822</td>\n",
       "    </tr>\n",
       "  </tbody>\n",
       "</table>\n",
       "<p>1 rows × 24 columns</p>\n",
       "</div>"
      ],
      "text/plain": [
       "                                                                                                                                                                                                                                                                                                                                                                                                          selftext  \\\n",
       "0  If I wanted to play a virtual board game remotely with someone who didn't have a great PC but could still Zoom/Skype, what would you recommend? Any direction you can provide would be massively appreciated.&amp;#x200B;Here's the scenario I'd like to discover a solution for:* A roleplay game I can essentially DM on one side - She says \"Let's move here\" and I can adjust the tokens on both turns. ...   \n",
       "\n",
       "                                         title  score           domain  \\\n",
       "0  Virtual board games you can host over Zoom?      1  self.boardgames   \n",
       "\n",
       "        id       author  num_comments  \\\n",
       "0  105yauz  TylerDeLarm             0   \n",
       "\n",
       "                                                                                                url  \\\n",
       "0  https://www.reddit.com/r/boardgames/comments/105yauz/virtual_board_games_you_can_host_over_zoom/   \n",
       "\n",
       "   created_utc  subreddit  ...  selftext_emoji_count  title_emoji_count  \\\n",
       "0   1673122098          0  ...                     0                  0   \n",
       "\n",
       "                                                                                                                                                                                                                                                                                                                                                                                                    subreddit_text  \\\n",
       "0  if  i  wanted  to  play  a  virtual  board  game  remotely  with  someone  who  didnt  have  a  great  pc  but  could  still  zoom  skype   what  would  you  remend   any  direction  you  can  provide  would  be  massively  appreciated      heres  the  scenario  id  like  to  discover  a  solution  for    a  roleplay  game  i  can  essentially  dm  on  one  side    she  says   lets  move  here...   \n",
       "\n",
       "   subreddit_text_length  subreddit_text_word_count  \\\n",
       "0                    684                        120   \n",
       "\n",
       "   subreddit_text_emoji_count subreddit_text_sent_neg  \\\n",
       "0                           0                   0.016   \n",
       "\n",
       "   subreddit_text_sent_neu  subreddit_text_sent_pos  \\\n",
       "0                    0.758                    0.226   \n",
       "\n",
       "   subreddit_text_sent_compound  \n",
       "0                        0.9822  \n",
       "\n",
       "[1 rows x 24 columns]"
      ]
     },
     "execution_count": 56,
     "metadata": {},
     "output_type": "execute_result"
    }
   ],
   "source": [
    "# Instantiate Sentiment Intensity Analyzer\n",
    "sent = SentimentIntensityAnalyzer()\n",
    "\n",
    "\n",
    "def create_polarity_scores(df, target):\n",
    "    new_col = target + \"_sent_\"\n",
    "    df[new_col + \"neg\"] = df[target].map(lambda text: sent.polarity_scores(text)[\"neg\"])\n",
    "    df[new_col + \"neu\"] = df[target].map(lambda text: sent.polarity_scores(text)[\"neu\"])\n",
    "    df[new_col + \"pos\"] = df[target].map(lambda text: sent.polarity_scores(text)[\"pos\"])\n",
    "    df[new_col + \"compound\"] = df[target].map(\n",
    "        lambda text: sent.polarity_scores(text)[\"compound\"]\n",
    "    )\n",
    "\n",
    "\n",
    "create_polarity_scores(df, \"subreddit_text\")\n",
    "\n",
    "df.head(1)\n"
   ]
  },
  {
   "attachments": {},
   "cell_type": "markdown",
   "metadata": {},
   "source": [
    "---\n",
    "\n",
    "`O`utput data\n"
   ]
  },
  {
   "cell_type": "code",
   "execution_count": 57,
   "metadata": {},
   "outputs": [],
   "source": [
    "df.to_csv(\"../data/ready_data/reddit_data.csv\", index=False)\n"
   ]
  }
 ],
 "metadata": {
  "kernelspec": {
   "display_name": "Python 3",
   "language": "python",
   "name": "python3"
  },
  "language_info": {
   "codemirror_mode": {
    "name": "ipython",
    "version": 3
   },
   "file_extension": ".py",
   "mimetype": "text/x-python",
   "name": "python",
   "nbconvert_exporter": "python",
   "pygments_lexer": "ipython3",
   "version": "3.9.13 (tags/v3.9.13:6de2ca5, May 17 2022, 16:36:42) [MSC v.1929 64 bit (AMD64)]"
  },
  "orig_nbformat": 4,
  "vscode": {
   "interpreter": {
    "hash": "7af3ebbd7de8183e54c3a867989fd0d9f9e8343647e0895fccfd06c308b7a095"
   }
  }
 },
 "nbformat": 4,
 "nbformat_minor": 2
}
