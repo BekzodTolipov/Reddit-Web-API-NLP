{
 "cells": [
  {
   "attachments": {},
   "cell_type": "markdown",
   "metadata": {},
   "source": [
    "#### PushShift\n",
    "\n",
    "---\n",
    "\n",
    "r/boardgames"
   ]
  },
  {
   "cell_type": "code",
   "execution_count": 11,
   "metadata": {},
   "outputs": [],
   "source": [
    "# Imports\n",
    "import requests\n",
    "import calendar\n",
    "import time\n",
    "from datetime import datetime\n",
    "\n",
    "import pandas as pd\n",
    "import numpy as np"
   ]
  },
  {
   "cell_type": "code",
   "execution_count": 12,
   "metadata": {},
   "outputs": [],
   "source": [
    "url = 'https://api.pushshift.io/reddit/search/submission'"
   ]
  },
  {
   "cell_type": "code",
   "execution_count": 13,
   "metadata": {},
   "outputs": [
    {
     "data": {
      "text/plain": [
       "1673647632"
      ]
     },
     "execution_count": 13,
     "metadata": {},
     "output_type": "execute_result"
    }
   ],
   "source": [
    "dt = datetime.now()\n",
    "filter_time = round(datetime.timestamp(dt))\n",
    "filter_time"
   ]
  },
  {
   "cell_type": "code",
   "execution_count": 4,
   "metadata": {},
   "outputs": [],
   "source": [
    "wsb = []\n",
    "bg = []\n",
    "\n",
    "\n",
    "def pull_data(subreddit_name, created_utc_filter_val):\n",
    "    filter_params = [\n",
    "                \"id\",\n",
    "                \"author\",\n",
    "                \"created_utc\",\n",
    "                \"domain\",\n",
    "                \"url\",\n",
    "                \"title\",\n",
    "                \"selftext\",\n",
    "                \"num_comments\",\n",
    "                \"created\",\n",
    "                \"score\",\n",
    "            ]\n",
    "    result = []\n",
    "    utc_filter = created_utc_filter_val\n",
    "    while len(result) <= 4:\n",
    "        params = {\n",
    "            \"subreddit\": subreddit_name,\n",
    "            \"limit\": 1000,\n",
    "            \"filter\": \" \".join(filter_params),\n",
    "            \"after\": utc_filter,\n",
    "        }\n",
    "\n",
    "        try:\n",
    "            res = requests.get(url, params, timeout=30)\n",
    "        except:\n",
    "            print(\"ERROR: Request timed out\")\n",
    "            break\n",
    "\n",
    "        print(f\"Response Status: {res.status_code}\")\n",
    "        if res.status_code != 200:\n",
    "            print(res.content)\n",
    "            break\n",
    "\n",
    "        json = res.json()\n",
    "        if len(json[\"data\"]) <= 0:\n",
    "            continue\n",
    "\n",
    "        print(len(json[\"data\"]), utc_filter)\n",
    "\n",
    "        result.append(json[\"data\"])\n",
    "        utc_filter = json[\"data\"][-1][\"created_utc\"]\n",
    "        print(utc_filter)\n",
    "\n",
    "    return result\n"
   ]
  },
  {
   "cell_type": "code",
   "execution_count": 14,
   "metadata": {},
   "outputs": [],
   "source": [
    "wsb = []\n",
    "bg = []\n",
    "\n",
    "\n",
    "def pull_data_after(subreddit_name, created_utc_filter_val):\n",
    "    filter_params = [\n",
    "                \"id\",\n",
    "                \"author\",\n",
    "                \"created_utc\",\n",
    "                \"domain\",\n",
    "                \"url\",\n",
    "                \"title\",\n",
    "                \"selftext\",\n",
    "                \"num_comments\",\n",
    "                \"created\",\n",
    "                \"score\",\n",
    "            ]\n",
    "    result = []\n",
    "\n",
    "    params = {\n",
    "        \"subreddit\": subreddit_name,\n",
    "        \"limit\": 1000,\n",
    "        \"filter\": \" \".join(filter_params),\n",
    "        \"after\": created_utc_filter_val,\n",
    "    }\n",
    "\n",
    "    res = requests.get(url, params, timeout=30)\n",
    "\n",
    "    print(f\"Response Status: {res.status_code}\")\n",
    "    if res.status_code != 200:\n",
    "        print(res.content)\n",
    "\n",
    "    json = res.json()\n",
    "\n",
    "    print(len(json[\"data\"]), created_utc_filter_val)\n",
    "\n",
    "    result.append(json[\"data\"])\n",
    "\n",
    "    return result\n"
   ]
  },
  {
   "cell_type": "code",
   "execution_count": 5,
   "metadata": {},
   "outputs": [
    {
     "name": "stdout",
     "output_type": "stream",
     "text": [
      "Response Status: 200\n",
      "132 1673122098\n",
      "1673122098\n",
      "Response Status: 200\n",
      "132 1673122098\n",
      "1673122098\n",
      "Response Status: 200\n",
      "132 1673122098\n",
      "1673122098\n",
      "Response Status: 200\n",
      "132 1673122098\n",
      "1673122098\n",
      "Response Status: 200\n",
      "132 1673122098\n",
      "1673122098\n"
     ]
    }
   ],
   "source": [
    "bg_data = pull_data('boardgames', filter_time)\n",
    "bg_data_list = [x for collection in bg_data for x in collection]\n",
    "bg_df = pd.DataFrame(bg_data_list)"
   ]
  },
  {
   "cell_type": "code",
   "execution_count": 15,
   "metadata": {},
   "outputs": [
    {
     "name": "stdout",
     "output_type": "stream",
     "text": [
      "Response Status: 200\n",
      "226 1673382212\n"
     ]
    }
   ],
   "source": [
    "bg_data = pull_data_after('boardgames', 1673382212)\n",
    "bg_data_list = [x for collection in bg_data for x in collection]\n",
    "bg_df = pd.DataFrame(bg_data_list)"
   ]
  },
  {
   "cell_type": "code",
   "execution_count": 6,
   "metadata": {},
   "outputs": [
    {
     "name": "stdout",
     "output_type": "stream",
     "text": [
      "Response Status: 200\n",
      "1000 1673122240\n",
      "1672941283\n",
      "Response Status: 200\n",
      "1000 1672941283\n",
      "1672775919\n",
      "Response Status: 200\n",
      "998 1672775919\n",
      "1672502470\n",
      "Response Status: 200\n",
      "998 1672502470\n",
      "1672324849\n",
      "Response Status: 200\n",
      "998 1672324849\n",
      "1672162319\n"
     ]
    }
   ],
   "source": [
    "wsb_data = pull_data('wallstreetbets', filter_time)\n",
    "wsb_data_list = [x for collection in wsb_data for x in collection]\n",
    "wsb_df = pd.DataFrame(wsb_data_list)"
   ]
  },
  {
   "cell_type": "code",
   "execution_count": 16,
   "metadata": {},
   "outputs": [
    {
     "name": "stdout",
     "output_type": "stream",
     "text": [
      "Response Status: 200\n",
      "1000 1673382292\n"
     ]
    }
   ],
   "source": [
    "wsb_data = pull_data_after('wallstreetbets', 1673382292)\n",
    "wsb_data_list = [x for collection in wsb_data for x in collection]\n",
    "wsb_df = pd.DataFrame(wsb_data_list)"
   ]
  },
  {
   "cell_type": "code",
   "execution_count": 17,
   "metadata": {},
   "outputs": [],
   "source": [
    "bg_df.to_csv(f'../data/api_pull/{dt.month}_{dt.day}_{dt.year}_boardgames.csv', index = False)"
   ]
  },
  {
   "cell_type": "code",
   "execution_count": 18,
   "metadata": {},
   "outputs": [],
   "source": [
    "wsb_df.to_csv(f'../data/api_pull/{dt.month}_{dt.day}_{dt.year}_wsb.csv', index = False)"
   ]
  },
  {
   "cell_type": "code",
   "execution_count": 19,
   "metadata": {},
   "outputs": [
    {
     "data": {
      "text/plain": [
       "0    1673646747\n",
       "Name: created_utc, dtype: int64"
      ]
     },
     "execution_count": 19,
     "metadata": {},
     "output_type": "execute_result"
    }
   ],
   "source": [
    "bg_df.sort_values(by='created_utc', ascending=True).tail(1)['created_utc']"
   ]
  },
  {
   "cell_type": "code",
   "execution_count": 20,
   "metadata": {},
   "outputs": [
    {
     "data": {
      "text/plain": [
       "0    1673647457\n",
       "Name: created_utc, dtype: int64"
      ]
     },
     "execution_count": 20,
     "metadata": {},
     "output_type": "execute_result"
    }
   ],
   "source": [
    "wsb_df.sort_values(by='created_utc', ascending=True).tail(1)['created_utc']"
   ]
  },
  {
   "cell_type": "code",
   "execution_count": null,
   "metadata": {},
   "outputs": [],
   "source": []
  }
 ],
 "metadata": {
  "kernelspec": {
   "display_name": "Python 3",
   "language": "python",
   "name": "python3"
  },
  "language_info": {
   "codemirror_mode": {
    "name": "ipython",
    "version": 3
   },
   "file_extension": ".py",
   "mimetype": "text/x-python",
   "name": "python",
   "nbconvert_exporter": "python",
   "pygments_lexer": "ipython3",
   "version": "3.9.13"
  },
  "orig_nbformat": 4,
  "vscode": {
   "interpreter": {
    "hash": "7af3ebbd7de8183e54c3a867989fd0d9f9e8343647e0895fccfd06c308b7a095"
   }
  }
 },
 "nbformat": 4,
 "nbformat_minor": 2
}
