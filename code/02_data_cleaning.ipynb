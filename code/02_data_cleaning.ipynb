{
 "cells": [
  {
   "attachments": {},
   "cell_type": "markdown",
   "metadata": {},
   "source": [
    "Data Cleaning\n",
    "\n",
    "----\n",
    "\n",
    "Imports"
   ]
  },
  {
   "cell_type": "code",
   "execution_count": 1,
   "metadata": {},
   "outputs": [],
   "source": [
    "import pandas as pd\n",
    "\n",
    "# this identifies emojis\n",
    "import emoji\n",
    "\n",
    "import re\n",
    "\n",
    "# this setting widens how many characters pandas will display in a column:\n",
    "pd.options.display.max_colwidth = 400\n"
   ]
  },
  {
   "attachments": {},
   "cell_type": "markdown",
   "metadata": {},
   "source": [
    "----\n",
    "\n",
    "#### Load Data"
   ]
  },
  {
   "cell_type": "code",
   "execution_count": 2,
   "metadata": {},
   "outputs": [],
   "source": [
    "# Data pulled from January 2023\n",
    "bg_df_07 = pd.read_csv(\"../data/api_pull/1_7_2023_boardgames.csv\")\n",
    "wsb_df_07 = pd.read_csv(\"../data/api_pull/1_7_2023_wsb.csv\")\n",
    "\n",
    "bg_df_08 = pd.read_csv(\"../data/api_pull/1_8_2023_boardgames.csv\")\n",
    "wsb_df_08 = pd.read_csv(\"../data/api_pull/1_8_2023_wsb.csv\")\n",
    "\n",
    "bg_df_10 = pd.read_csv(\"../data/api_pull/1_10_2023_boardgames.csv\")\n",
    "wsb_df_10 = pd.read_csv(\"../data/api_pull/1_10_2023_wsb.csv\")\n",
    "\n",
    "bg_df_13 = pd.read_csv(\"../data/api_pull/1_13_2023_boardgames.csv\")\n",
    "wsb_df_13 = pd.read_csv(\"../data/api_pull/1_13_2023_wsb.csv\")\n"
   ]
  },
  {
   "attachments": {},
   "cell_type": "markdown",
   "metadata": {},
   "source": [
    "#### Add `subreddit` column "
   ]
  },
  {
   "cell_type": "code",
   "execution_count": 3,
   "metadata": {},
   "outputs": [],
   "source": [
    "df_list = []\n",
    "bg_list = [\n",
    "    bg_df_07,\n",
    "    bg_df_08,\n",
    "    bg_df_10,\n",
    "    bg_df_13,\n",
    "]\n",
    "wsb_list = [wsb_df_07, wsb_df_08, wsb_df_10, wsb_df_13]\n",
    "\n",
    "\n",
    "def add_col(df, val):\n",
    "    df[\"subreddit\"] = val\n",
    "\n",
    "\n",
    "for bg in bg_list:\n",
    "    add_col(bg, \"boardgames\")\n",
    "    df_list.append(bg)\n",
    "\n",
    "for wsb in wsb_list:\n",
    "    add_col(wsb, \"wsb\")\n",
    "    df_list.append(wsb)\n"
   ]
  },
  {
   "attachments": {},
   "cell_type": "markdown",
   "metadata": {},
   "source": [
    "#### Combine All DataFrames"
   ]
  },
  {
   "cell_type": "code",
   "execution_count": 4,
   "metadata": {},
   "outputs": [
    {
     "data": {
      "text/plain": [
       "(12926, 10)"
      ]
     },
     "execution_count": 4,
     "metadata": {},
     "output_type": "execute_result"
    }
   ],
   "source": [
    "df = pd.concat(df_list)\n",
    "df.shape"
   ]
  },
  {
   "cell_type": "code",
   "execution_count": 6,
   "metadata": {},
   "outputs": [
    {
     "data": {
      "text/plain": [
       "array(['boardgames', 'wsb'], dtype=object)"
      ]
     },
     "execution_count": 6,
     "metadata": {},
     "output_type": "execute_result"
    }
   ],
   "source": [
    "df[\"subreddit\"].unique()\n"
   ]
  },
  {
   "cell_type": "code",
   "execution_count": 7,
   "metadata": {},
   "outputs": [
    {
     "data": {
      "text/html": [
       "<div>\n",
       "<style scoped>\n",
       "    .dataframe tbody tr th:only-of-type {\n",
       "        vertical-align: middle;\n",
       "    }\n",
       "\n",
       "    .dataframe tbody tr th {\n",
       "        vertical-align: top;\n",
       "    }\n",
       "\n",
       "    .dataframe thead th {\n",
       "        text-align: right;\n",
       "    }\n",
       "</style>\n",
       "<table border=\"1\" class=\"dataframe\">\n",
       "  <thead>\n",
       "    <tr style=\"text-align: right;\">\n",
       "      <th></th>\n",
       "      <th>selftext</th>\n",
       "      <th>title</th>\n",
       "      <th>score</th>\n",
       "      <th>domain</th>\n",
       "      <th>id</th>\n",
       "      <th>author</th>\n",
       "      <th>num_comments</th>\n",
       "      <th>url</th>\n",
       "      <th>created_utc</th>\n",
       "      <th>subreddit</th>\n",
       "    </tr>\n",
       "  </thead>\n",
       "  <tbody>\n",
       "    <tr>\n",
       "      <th>0</th>\n",
       "      <td>If I wanted to play a virtual board game remotely with someone who didn't have a great PC but could still Zoom/Skype, what would you recommend? Any direction you can provide would be massively appreciated.\\n\\n&amp;amp;#x200B;\\n\\nHere's the scenario I'd like to discover a solution for:\\n\\n* A roleplay game I can essentially DM on one side - She says \"Let's move here\" and I can adjust the tokens on ...</td>\n",
       "      <td>Virtual board games you can host over Zoom?</td>\n",
       "      <td>1</td>\n",
       "      <td>self.boardgames</td>\n",
       "      <td>105yauz</td>\n",
       "      <td>TylerDeLarm</td>\n",
       "      <td>0</td>\n",
       "      <td>https://www.reddit.com/r/boardgames/comments/105yauz/virtual_board_games_you_can_host_over_zoom/</td>\n",
       "      <td>1673122098</td>\n",
       "      <td>boardgames</td>\n",
       "    </tr>\n",
       "  </tbody>\n",
       "</table>\n",
       "</div>"
      ],
      "text/plain": [
       "                                                                                                                                                                                                                                                                                                                                                                                                          selftext  \\\n",
       "0  If I wanted to play a virtual board game remotely with someone who didn't have a great PC but could still Zoom/Skype, what would you recommend? Any direction you can provide would be massively appreciated.\\n\\n&amp;#x200B;\\n\\nHere's the scenario I'd like to discover a solution for:\\n\\n* A roleplay game I can essentially DM on one side - She says \"Let's move here\" and I can adjust the tokens on ...   \n",
       "\n",
       "                                         title  score           domain  \\\n",
       "0  Virtual board games you can host over Zoom?      1  self.boardgames   \n",
       "\n",
       "        id       author  num_comments  \\\n",
       "0  105yauz  TylerDeLarm             0   \n",
       "\n",
       "                                                                                                url  \\\n",
       "0  https://www.reddit.com/r/boardgames/comments/105yauz/virtual_board_games_you_can_host_over_zoom/   \n",
       "\n",
       "   created_utc   subreddit  \n",
       "0   1673122098  boardgames  "
      ]
     },
     "execution_count": 7,
     "metadata": {},
     "output_type": "execute_result"
    }
   ],
   "source": [
    "df.head(1)"
   ]
  },
  {
   "attachments": {},
   "cell_type": "markdown",
   "metadata": {},
   "source": [
    "----\n"
   ]
  },
  {
   "attachments": {},
   "cell_type": "markdown",
   "metadata": {},
   "source": [
    "- Cleanup `na`"
   ]
  },
  {
   "cell_type": "code",
   "execution_count": 8,
   "metadata": {},
   "outputs": [
    {
     "data": {
      "text/plain": [
       "selftext        5912\n",
       "title              0\n",
       "score              0\n",
       "domain            31\n",
       "id                 0\n",
       "author             0\n",
       "num_comments       0\n",
       "url               31\n",
       "created_utc        0\n",
       "subreddit          0\n",
       "dtype: int64"
      ]
     },
     "execution_count": 8,
     "metadata": {},
     "output_type": "execute_result"
    }
   ],
   "source": [
    "df.isna().sum()\n"
   ]
  },
  {
   "cell_type": "code",
   "execution_count": 9,
   "metadata": {},
   "outputs": [],
   "source": [
    "# fill na in selftext with empty string\n",
    "df[\"selftext\"] = df[\"selftext\"].fillna(\"\")\n"
   ]
  },
  {
   "cell_type": "code",
   "execution_count": 10,
   "metadata": {},
   "outputs": [
    {
     "data": {
      "text/plain": [
       "selftext         0\n",
       "title            0\n",
       "score            0\n",
       "domain          31\n",
       "id               0\n",
       "author           0\n",
       "num_comments     0\n",
       "url             31\n",
       "created_utc      0\n",
       "subreddit        0\n",
       "dtype: int64"
      ]
     },
     "execution_count": 10,
     "metadata": {},
     "output_type": "execute_result"
    }
   ],
   "source": [
    "df.isna().sum()"
   ]
  },
  {
   "cell_type": "code",
   "execution_count": 11,
   "metadata": {},
   "outputs": [
    {
     "name": "stdout",
     "output_type": "stream",
     "text": [
      "\n",
      "Missing Ratio: 0.002%\n",
      "\n"
     ]
    }
   ],
   "source": [
    "df_missing_ratio = round(df.isna().sum().max() / df.value_counts().sum(), 3)\n",
    "\n",
    "print(\n",
    "    f\"\"\"\n",
    "Missing Ratio: {df_missing_ratio}%\n",
    "\"\"\"\n",
    ")\n"
   ]
  },
  {
   "cell_type": "code",
   "execution_count": 12,
   "metadata": {},
   "outputs": [
    {
     "data": {
      "text/plain": [
       "selftext        0\n",
       "title           0\n",
       "score           0\n",
       "domain          0\n",
       "id              0\n",
       "author          0\n",
       "num_comments    0\n",
       "url             0\n",
       "created_utc     0\n",
       "subreddit       0\n",
       "dtype: int64"
      ]
     },
     "execution_count": 12,
     "metadata": {},
     "output_type": "execute_result"
    }
   ],
   "source": [
    "# Drop na since it is only fraction of dataframes\n",
    "df.dropna(inplace=True)\n",
    "df.isna().sum()\n"
   ]
  },
  {
   "attachments": {},
   "cell_type": "markdown",
   "metadata": {},
   "source": [
    "----\n",
    "- Check if `selftext` contains `nan` as text"
   ]
  },
  {
   "cell_type": "code",
   "execution_count": 13,
   "metadata": {},
   "outputs": [
    {
     "name": "stdout",
     "output_type": "stream",
     "text": [
      "\n",
      "DF-selftext Missing Ratio which contains nan as string: 0.0%\n",
      "\n"
     ]
    }
   ],
   "source": [
    "df_st_nan_ratio = (\n",
    "    df[df[\"selftext\"] == \"nan\"].value_counts().sum() / df.value_counts().sum()\n",
    ")\n",
    "\n",
    "print(\n",
    "    f\"\"\"\n",
    "DF-selftext Missing Ratio which contains nan as string: {df_st_nan_ratio}%\n",
    "\"\"\"\n",
    ")\n"
   ]
  },
  {
   "cell_type": "code",
   "execution_count": 14,
   "metadata": {},
   "outputs": [],
   "source": [
    "# Since selftext field contain nan as string\n",
    "# it was missed during dropna. Will transform nan\n",
    "# to empty string\n",
    "df[\"selftext\"] = df[\"selftext\"].map(lambda text: \"\" if text == \"nan\" else text)\n"
   ]
  },
  {
   "attachments": {},
   "cell_type": "markdown",
   "metadata": {},
   "source": [
    "----\n",
    "- Display `dtypes`"
   ]
  },
  {
   "cell_type": "code",
   "execution_count": 15,
   "metadata": {},
   "outputs": [
    {
     "name": "stdout",
     "output_type": "stream",
     "text": [
      "<class 'pandas.core.frame.DataFrame'>\n",
      "Int64Index: 12895 entries, 0 to 999\n",
      "Data columns (total 10 columns):\n",
      " #   Column        Non-Null Count  Dtype \n",
      "---  ------        --------------  ----- \n",
      " 0   selftext      12895 non-null  object\n",
      " 1   title         12895 non-null  object\n",
      " 2   score         12895 non-null  int64 \n",
      " 3   domain        12895 non-null  object\n",
      " 4   id            12895 non-null  object\n",
      " 5   author        12895 non-null  object\n",
      " 6   num_comments  12895 non-null  int64 \n",
      " 7   url           12895 non-null  object\n",
      " 8   created_utc   12895 non-null  int64 \n",
      " 9   subreddit     12895 non-null  object\n",
      "dtypes: int64(3), object(7)\n",
      "memory usage: 1.1+ MB\n"
     ]
    }
   ],
   "source": [
    "df.info()"
   ]
  },
  {
   "attachments": {},
   "cell_type": "markdown",
   "metadata": {},
   "source": [
    "----\n",
    "- Strip `selftext` and `title` from extra spaces and `\\n`"
   ]
  },
  {
   "cell_type": "code",
   "execution_count": 16,
   "metadata": {},
   "outputs": [],
   "source": [
    "def strip_column(df, target_list):\n",
    "    for target in target_list:\n",
    "        df[target] = df[target].map(lambda text: str(text).strip())\n"
   ]
  },
  {
   "cell_type": "code",
   "execution_count": 17,
   "metadata": {},
   "outputs": [],
   "source": [
    "targets = [\"selftext\", \"title\"]\n",
    "strip_column(df, targets)\n"
   ]
  },
  {
   "cell_type": "code",
   "execution_count": 18,
   "metadata": {},
   "outputs": [],
   "source": [
    "df[\"selftext\"] = df[\"selftext\"].map(lambda text: re.sub(\"\\n\", \"\", text))\n"
   ]
  },
  {
   "attachments": {},
   "cell_type": "markdown",
   "metadata": {},
   "source": [
    "----\n",
    "- Create `selftext` and `title` length columns"
   ]
  },
  {
   "cell_type": "code",
   "execution_count": 19,
   "metadata": {},
   "outputs": [],
   "source": [
    "def add_length_column(df, targets):\n",
    "    for target in targets:\n",
    "        new_col_name = target + \"_length\"\n",
    "        df[new_col_name] = df[target].apply(len)\n"
   ]
  },
  {
   "cell_type": "code",
   "execution_count": 20,
   "metadata": {},
   "outputs": [],
   "source": [
    "add_length_column(df, [\"selftext\", \"title\"])\n"
   ]
  },
  {
   "cell_type": "code",
   "execution_count": 21,
   "metadata": {},
   "outputs": [
    {
     "data": {
      "text/html": [
       "<div>\n",
       "<style scoped>\n",
       "    .dataframe tbody tr th:only-of-type {\n",
       "        vertical-align: middle;\n",
       "    }\n",
       "\n",
       "    .dataframe tbody tr th {\n",
       "        vertical-align: top;\n",
       "    }\n",
       "\n",
       "    .dataframe thead th {\n",
       "        text-align: right;\n",
       "    }\n",
       "</style>\n",
       "<table border=\"1\" class=\"dataframe\">\n",
       "  <thead>\n",
       "    <tr style=\"text-align: right;\">\n",
       "      <th></th>\n",
       "      <th>selftext_length</th>\n",
       "      <th>title_length</th>\n",
       "    </tr>\n",
       "  </thead>\n",
       "  <tbody>\n",
       "    <tr>\n",
       "      <th>3604</th>\n",
       "      <td>0</td>\n",
       "      <td>91</td>\n",
       "    </tr>\n",
       "  </tbody>\n",
       "</table>\n",
       "</div>"
      ],
      "text/plain": [
       "      selftext_length  title_length\n",
       "3604                0            91"
      ]
     },
     "execution_count": 21,
     "metadata": {},
     "output_type": "execute_result"
    }
   ],
   "source": [
    "df[[\"selftext_length\", \"title_length\"]].sort_values(\n",
    "    by=\"selftext_length\", ascending=False\n",
    ").tail(1)\n"
   ]
  },
  {
   "attachments": {},
   "cell_type": "markdown",
   "metadata": {},
   "source": [
    "----\n",
    "- Create `selftext` and `title` word count columns"
   ]
  },
  {
   "cell_type": "code",
   "execution_count": 22,
   "metadata": {},
   "outputs": [],
   "source": [
    "def add_word_count_column(df, targets):\n",
    "    for target in targets:\n",
    "        new_col_name = target + \"_word_count\"\n",
    "        df[new_col_name] = df[target].map(lambda x: len(str(x).split(\" \")))\n"
   ]
  },
  {
   "cell_type": "code",
   "execution_count": 23,
   "metadata": {},
   "outputs": [],
   "source": [
    "add_word_count_column(df, [\"title\", \"selftext\"])\n"
   ]
  },
  {
   "cell_type": "code",
   "execution_count": 24,
   "metadata": {},
   "outputs": [
    {
     "data": {
      "text/html": [
       "<div>\n",
       "<style scoped>\n",
       "    .dataframe tbody tr th:only-of-type {\n",
       "        vertical-align: middle;\n",
       "    }\n",
       "\n",
       "    .dataframe tbody tr th {\n",
       "        vertical-align: top;\n",
       "    }\n",
       "\n",
       "    .dataframe thead th {\n",
       "        text-align: right;\n",
       "    }\n",
       "</style>\n",
       "<table border=\"1\" class=\"dataframe\">\n",
       "  <thead>\n",
       "    <tr style=\"text-align: right;\">\n",
       "      <th></th>\n",
       "      <th>selftext_word_count</th>\n",
       "      <th>title_word_count</th>\n",
       "    </tr>\n",
       "  </thead>\n",
       "  <tbody>\n",
       "    <tr>\n",
       "      <th>0</th>\n",
       "      <td>112</td>\n",
       "      <td>8</td>\n",
       "    </tr>\n",
       "  </tbody>\n",
       "</table>\n",
       "</div>"
      ],
      "text/plain": [
       "   selftext_word_count  title_word_count\n",
       "0                  112                 8"
      ]
     },
     "execution_count": 24,
     "metadata": {},
     "output_type": "execute_result"
    }
   ],
   "source": [
    "df[[\"selftext_word_count\", \"title_word_count\"]].head(1)\n"
   ]
  },
  {
   "attachments": {},
   "cell_type": "markdown",
   "metadata": {},
   "source": [
    "----\n",
    "- Check `dtypes`"
   ]
  },
  {
   "cell_type": "code",
   "execution_count": 25,
   "metadata": {},
   "outputs": [
    {
     "name": "stdout",
     "output_type": "stream",
     "text": [
      "<class 'pandas.core.frame.DataFrame'>\n",
      "Int64Index: 12895 entries, 0 to 999\n",
      "Data columns (total 14 columns):\n",
      " #   Column               Non-Null Count  Dtype \n",
      "---  ------               --------------  ----- \n",
      " 0   selftext             12895 non-null  object\n",
      " 1   title                12895 non-null  object\n",
      " 2   score                12895 non-null  int64 \n",
      " 3   domain               12895 non-null  object\n",
      " 4   id                   12895 non-null  object\n",
      " 5   author               12895 non-null  object\n",
      " 6   num_comments         12895 non-null  int64 \n",
      " 7   url                  12895 non-null  object\n",
      " 8   created_utc          12895 non-null  int64 \n",
      " 9   subreddit            12895 non-null  object\n",
      " 10  selftext_length      12895 non-null  int64 \n",
      " 11  title_length         12895 non-null  int64 \n",
      " 12  title_word_count     12895 non-null  int64 \n",
      " 13  selftext_word_count  12895 non-null  int64 \n",
      "dtypes: int64(7), object(7)\n",
      "memory usage: 1.5+ MB\n"
     ]
    }
   ],
   "source": [
    "df.info()\n"
   ]
  },
  {
   "attachments": {},
   "cell_type": "markdown",
   "metadata": {},
   "source": [
    "----\n",
    "- Count `emojis` used in `selftext` and `title`"
   ]
  },
  {
   "cell_type": "code",
   "execution_count": 26,
   "metadata": {},
   "outputs": [],
   "source": [
    "def add_emoji_count_column(df, target_list):\n",
    "    for target in target_list:\n",
    "        new_target = target + \"_emoji_count\"\n",
    "        df[new_target] = df[target].map(\n",
    "            lambda text: len([word for word in text if emoji.distinct_emoji_list(word)])\n",
    "        )\n"
   ]
  },
  {
   "cell_type": "code",
   "execution_count": 27,
   "metadata": {},
   "outputs": [],
   "source": [
    "add_emoji_count_column(df, [\"selftext\", \"title\"])\n"
   ]
  },
  {
   "cell_type": "code",
   "execution_count": 28,
   "metadata": {},
   "outputs": [
    {
     "data": {
      "text/html": [
       "<div>\n",
       "<style scoped>\n",
       "    .dataframe tbody tr th:only-of-type {\n",
       "        vertical-align: middle;\n",
       "    }\n",
       "\n",
       "    .dataframe tbody tr th {\n",
       "        vertical-align: top;\n",
       "    }\n",
       "\n",
       "    .dataframe thead th {\n",
       "        text-align: right;\n",
       "    }\n",
       "</style>\n",
       "<table border=\"1\" class=\"dataframe\">\n",
       "  <thead>\n",
       "    <tr style=\"text-align: right;\">\n",
       "      <th></th>\n",
       "      <th>selftext_emoji_count</th>\n",
       "    </tr>\n",
       "  </thead>\n",
       "  <tbody>\n",
       "    <tr>\n",
       "      <th>2392</th>\n",
       "      <td>76</td>\n",
       "    </tr>\n",
       "    <tr>\n",
       "      <th>3822</th>\n",
       "      <td>96</td>\n",
       "    </tr>\n",
       "    <tr>\n",
       "      <th>2885</th>\n",
       "      <td>133</td>\n",
       "    </tr>\n",
       "    <tr>\n",
       "      <th>4283</th>\n",
       "      <td>144</td>\n",
       "    </tr>\n",
       "    <tr>\n",
       "      <th>3340</th>\n",
       "      <td>153</td>\n",
       "    </tr>\n",
       "  </tbody>\n",
       "</table>\n",
       "</div>"
      ],
      "text/plain": [
       "      selftext_emoji_count\n",
       "2392                    76\n",
       "3822                    96\n",
       "2885                   133\n",
       "4283                   144\n",
       "3340                   153"
      ]
     },
     "execution_count": 28,
     "metadata": {},
     "output_type": "execute_result"
    }
   ],
   "source": [
    "df[[\"selftext_emoji_count\"]].sort_values(\n",
    "    by=\"selftext_emoji_count\", ascending=True\n",
    ").tail(5)\n"
   ]
  },
  {
   "attachments": {},
   "cell_type": "markdown",
   "metadata": {},
   "source": [
    "----\n",
    "- Output the data"
   ]
  },
  {
   "cell_type": "code",
   "execution_count": 29,
   "metadata": {},
   "outputs": [],
   "source": [
    "df.to_csv(\"../data/cleaned_data/reddit_data.csv\", index=False)\n"
   ]
  },
  {
   "cell_type": "code",
   "execution_count": null,
   "metadata": {},
   "outputs": [],
   "source": []
  }
 ],
 "metadata": {
  "kernelspec": {
   "display_name": "Python 3",
   "language": "python",
   "name": "python3"
  },
  "language_info": {
   "codemirror_mode": {
    "name": "ipython",
    "version": 3
   },
   "file_extension": ".py",
   "mimetype": "text/x-python",
   "name": "python",
   "nbconvert_exporter": "python",
   "pygments_lexer": "ipython3",
   "version": "3.9.13"
  },
  "orig_nbformat": 4,
  "vscode": {
   "interpreter": {
    "hash": "7af3ebbd7de8183e54c3a867989fd0d9f9e8343647e0895fccfd06c308b7a095"
   }
  }
 },
 "nbformat": 4,
 "nbformat_minor": 2
}
